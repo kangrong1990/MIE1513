{
 "cells": [
  {
   "cell_type": "markdown",
   "metadata": {},
   "source": [
    "# ds-assignment"
   ]
  },
  {
   "cell_type": "code",
   "execution_count": 1,
   "metadata": {},
   "outputs": [
    {
     "name": "stderr",
     "output_type": "stream",
     "text": [
      "[nltk_data] Downloading package vader_lexicon to\n",
      "[nltk_data]     /Users/rong/nltk_data...\n",
      "[nltk_data]   Package vader_lexicon is already up-to-date!\n",
      "[nltk_data] Downloading package stopwords to /Users/rong/nltk_data...\n",
      "[nltk_data]   Package stopwords is already up-to-date!\n",
      "[nltk_data] Downloading package averaged_perceptron_tagger to\n",
      "[nltk_data]     /Users/rong/nltk_data...\n",
      "[nltk_data]   Package averaged_perceptron_tagger is already up-to-\n",
      "[nltk_data]       date!\n",
      "[nltk_data] Downloading package wordnet to /Users/rong/nltk_data...\n",
      "[nltk_data]   Package wordnet is already up-to-date!\n"
     ]
    }
   ],
   "source": [
    "#Plot\n",
    "import matplotlib.pyplot as plt\n",
    "import seaborn as sns\n",
    "%matplotlib inline\n",
    "\n",
    "#Data Packages\n",
    "import math\n",
    "import pandas as pd\n",
    "import numpy as np\n",
    "import os\n",
    "from pathlib import Path\n",
    "\n",
    "#Progress bar\n",
    "from tqdm import tqdm\n",
    "\n",
    "#Counter\n",
    "from collections import Counter\n",
    "\n",
    "#Operation\n",
    "import operator\n",
    "\n",
    "#Natural Language Processing Packages\n",
    "import re\n",
    "import nltk\n",
    "\n",
    "## Download Resources\n",
    "nltk.download(\"vader_lexicon\")\n",
    "nltk.download(\"stopwords\")\n",
    "nltk.download(\"averaged_perceptron_tagger\")\n",
    "nltk.download(\"wordnet\")\n",
    "\n",
    "from nltk.sentiment import SentimentAnalyzer\n",
    "from nltk.sentiment.vader import SentimentIntensityAnalyzer\n",
    "from nltk.sentiment.util import *\n",
    "from nltk import tokenize\n",
    "from nltk.corpus import stopwords\n",
    "from nltk.tag import PerceptronTagger\n",
    "from nltk.data import find\n",
    "\n",
    "## Machine Learning\n",
    "import sklearn\n",
    "import sklearn.metrics as metrics"
   ]
  },
  {
   "cell_type": "markdown",
   "metadata": {},
   "source": [
    "## Read Data"
   ]
  },
  {
   "cell_type": "code",
   "execution_count": 2,
   "metadata": {},
   "outputs": [],
   "source": [
    "DATA_DIR = 'reviews'\n",
    "review_dir = [str(path) for path in Path(DATA_DIR).glob('**/*')]\n",
    "\n",
    "review_dir.sort(key=lambda i: i[-5])"
   ]
  },
  {
   "cell_type": "code",
   "execution_count": 3,
   "metadata": {},
   "outputs": [],
   "source": [
    "columns = ['id','filePath','hotel_name','review','rating','groundTruth']\n",
    "reviewsDF = pd.read_csv(review_dir[-1], names=columns)"
   ]
  },
  {
   "cell_type": "code",
   "execution_count": 4,
   "metadata": {},
   "outputs": [
    {
     "data": {
      "text/html": [
       "<div>\n",
       "<style scoped>\n",
       "    .dataframe tbody tr th:only-of-type {\n",
       "        vertical-align: middle;\n",
       "    }\n",
       "\n",
       "    .dataframe tbody tr th {\n",
       "        vertical-align: top;\n",
       "    }\n",
       "\n",
       "    .dataframe thead th {\n",
       "        text-align: right;\n",
       "    }\n",
       "</style>\n",
       "<table border=\"1\" class=\"dataframe\">\n",
       "  <thead>\n",
       "    <tr style=\"text-align: right;\">\n",
       "      <th></th>\n",
       "      <th>id</th>\n",
       "      <th>filePath</th>\n",
       "      <th>hotel_name</th>\n",
       "      <th>review</th>\n",
       "      <th>rating</th>\n",
       "      <th>groundTruth</th>\n",
       "    </tr>\n",
       "  </thead>\n",
       "  <tbody>\n",
       "    <tr>\n",
       "      <th>0</th>\n",
       "      <td>168600636</td>\n",
       "      <td>data2/ca/1102799/4191651/169097965.html</td>\n",
       "      <td>Lakeview Hecla Resort</td>\n",
       "      <td>If you love to golf, this resort will not disa...</td>\n",
       "      <td>4</td>\n",
       "      <td>positive</td>\n",
       "    </tr>\n",
       "    <tr>\n",
       "      <th>1</th>\n",
       "      <td>169097965</td>\n",
       "      <td>data2/ca/1102799/4191651/169347960.html</td>\n",
       "      <td>Lakeview Hecla Resort</td>\n",
       "      <td>Stayed here for one night on the Stay and Play...</td>\n",
       "      <td>4</td>\n",
       "      <td>positive</td>\n",
       "    </tr>\n",
       "    <tr>\n",
       "      <th>2</th>\n",
       "      <td>169347960</td>\n",
       "      <td>data2/ca/1102799/4191651/170010173.html</td>\n",
       "      <td>Lakeview Hecla Resort</td>\n",
       "      <td>we called the day we checked in to have mainte...</td>\n",
       "      <td>2</td>\n",
       "      <td>negative</td>\n",
       "    </tr>\n",
       "    <tr>\n",
       "      <th>3</th>\n",
       "      <td>170010173</td>\n",
       "      <td>data2/ca/1102799/4191651/170153756.html</td>\n",
       "      <td>Lakeview Hecla Resort</td>\n",
       "      <td>This was our first visit to Lakeview Resort. B...</td>\n",
       "      <td>4</td>\n",
       "      <td>positive</td>\n",
       "    </tr>\n",
       "    <tr>\n",
       "      <th>4</th>\n",
       "      <td>194637934</td>\n",
       "      <td>data2/ca/1102799/4191651/194738124.html</td>\n",
       "      <td>Lakeview Hecla Resort</td>\n",
       "      <td>Great place if you like outdoor winter activit...</td>\n",
       "      <td>5</td>\n",
       "      <td>positive</td>\n",
       "    </tr>\n",
       "  </tbody>\n",
       "</table>\n",
       "</div>"
      ],
      "text/plain": [
       "          id                                 filePath             hotel_name  \\\n",
       "0  168600636  data2/ca/1102799/4191651/169097965.html  Lakeview Hecla Resort   \n",
       "1  169097965  data2/ca/1102799/4191651/169347960.html  Lakeview Hecla Resort   \n",
       "2  169347960  data2/ca/1102799/4191651/170010173.html  Lakeview Hecla Resort   \n",
       "3  170010173  data2/ca/1102799/4191651/170153756.html  Lakeview Hecla Resort   \n",
       "4  194637934  data2/ca/1102799/4191651/194738124.html  Lakeview Hecla Resort   \n",
       "\n",
       "                                              review  rating groundTruth  \n",
       "0  If you love to golf, this resort will not disa...       4    positive  \n",
       "1  Stayed here for one night on the Stay and Play...       4    positive  \n",
       "2  we called the day we checked in to have mainte...       2    negative  \n",
       "3  This was our first visit to Lakeview Resort. B...       4    positive  \n",
       "4  Great place if you like outdoor winter activit...       5    positive  "
      ]
     },
     "execution_count": 4,
     "metadata": {},
     "output_type": "execute_result"
    }
   ],
   "source": [
    "reviewsDF.head()"
   ]
  },
  {
   "cell_type": "code",
   "execution_count": 5,
   "metadata": {},
   "outputs": [],
   "source": [
    "reviewsDF.dropna(inplace=True)\n",
    "reviewsDF.drop(['id','filePath'], 1, inplace=True)"
   ]
  },
  {
   "cell_type": "code",
   "execution_count": 6,
   "metadata": {},
   "outputs": [],
   "source": [
    "reviewsDF.groundTruth = reviewsDF.groundTruth.map(lambda x: 0 if x=='negative' else 1)"
   ]
  },
  {
   "cell_type": "code",
   "execution_count": 7,
   "metadata": {},
   "outputs": [
    {
     "data": {
      "text/html": [
       "<div>\n",
       "<style scoped>\n",
       "    .dataframe tbody tr th:only-of-type {\n",
       "        vertical-align: middle;\n",
       "    }\n",
       "\n",
       "    .dataframe tbody tr th {\n",
       "        vertical-align: top;\n",
       "    }\n",
       "\n",
       "    .dataframe thead th {\n",
       "        text-align: right;\n",
       "    }\n",
       "</style>\n",
       "<table border=\"1\" class=\"dataframe\">\n",
       "  <thead>\n",
       "    <tr style=\"text-align: right;\">\n",
       "      <th></th>\n",
       "      <th>hotel_name</th>\n",
       "      <th>review</th>\n",
       "      <th>rating</th>\n",
       "      <th>groundTruth</th>\n",
       "    </tr>\n",
       "  </thead>\n",
       "  <tbody>\n",
       "    <tr>\n",
       "      <th>0</th>\n",
       "      <td>Lakeview Hecla Resort</td>\n",
       "      <td>If you love to golf, this resort will not disa...</td>\n",
       "      <td>4</td>\n",
       "      <td>1</td>\n",
       "    </tr>\n",
       "    <tr>\n",
       "      <th>1</th>\n",
       "      <td>Lakeview Hecla Resort</td>\n",
       "      <td>Stayed here for one night on the Stay and Play...</td>\n",
       "      <td>4</td>\n",
       "      <td>1</td>\n",
       "    </tr>\n",
       "    <tr>\n",
       "      <th>2</th>\n",
       "      <td>Lakeview Hecla Resort</td>\n",
       "      <td>we called the day we checked in to have mainte...</td>\n",
       "      <td>2</td>\n",
       "      <td>0</td>\n",
       "    </tr>\n",
       "    <tr>\n",
       "      <th>3</th>\n",
       "      <td>Lakeview Hecla Resort</td>\n",
       "      <td>This was our first visit to Lakeview Resort. B...</td>\n",
       "      <td>4</td>\n",
       "      <td>1</td>\n",
       "    </tr>\n",
       "    <tr>\n",
       "      <th>4</th>\n",
       "      <td>Lakeview Hecla Resort</td>\n",
       "      <td>Great place if you like outdoor winter activit...</td>\n",
       "      <td>5</td>\n",
       "      <td>1</td>\n",
       "    </tr>\n",
       "  </tbody>\n",
       "</table>\n",
       "</div>"
      ],
      "text/plain": [
       "              hotel_name                                             review  \\\n",
       "0  Lakeview Hecla Resort  If you love to golf, this resort will not disa...   \n",
       "1  Lakeview Hecla Resort  Stayed here for one night on the Stay and Play...   \n",
       "2  Lakeview Hecla Resort  we called the day we checked in to have mainte...   \n",
       "3  Lakeview Hecla Resort  This was our first visit to Lakeview Resort. B...   \n",
       "4  Lakeview Hecla Resort  Great place if you like outdoor winter activit...   \n",
       "\n",
       "   rating  groundTruth  \n",
       "0       4            1  \n",
       "1       4            1  \n",
       "2       2            0  \n",
       "3       4            1  \n",
       "4       5            1  "
      ]
     },
     "execution_count": 7,
     "metadata": {},
     "output_type": "execute_result"
    }
   ],
   "source": [
    "reviewsDF.head()"
   ]
  },
  {
   "cell_type": "markdown",
   "metadata": {},
   "source": [
    "## Q1 (a)"
   ]
  },
  {
   "cell_type": "code",
   "execution_count": 8,
   "metadata": {},
   "outputs": [],
   "source": [
    "def vader_score(sent):\n",
    "    sid = SentimentIntensityAnalyzer()\n",
    "    return sid.polarity_scores(sent)['compound']"
   ]
  },
  {
   "cell_type": "code",
   "execution_count": 9,
   "metadata": {},
   "outputs": [],
   "source": [
    "reviewsDF['vader'] = reviewsDF['review'].apply(vader_score)"
   ]
  },
  {
   "cell_type": "code",
   "execution_count": 10,
   "metadata": {},
   "outputs": [
    {
     "data": {
      "text/html": [
       "<div>\n",
       "<style scoped>\n",
       "    .dataframe tbody tr th:only-of-type {\n",
       "        vertical-align: middle;\n",
       "    }\n",
       "\n",
       "    .dataframe tbody tr th {\n",
       "        vertical-align: top;\n",
       "    }\n",
       "\n",
       "    .dataframe thead th {\n",
       "        text-align: right;\n",
       "    }\n",
       "</style>\n",
       "<table border=\"1\" class=\"dataframe\">\n",
       "  <thead>\n",
       "    <tr style=\"text-align: right;\">\n",
       "      <th></th>\n",
       "      <th>hotel_name</th>\n",
       "      <th>review</th>\n",
       "      <th>rating</th>\n",
       "      <th>groundTruth</th>\n",
       "      <th>vader</th>\n",
       "    </tr>\n",
       "  </thead>\n",
       "  <tbody>\n",
       "    <tr>\n",
       "      <th>0</th>\n",
       "      <td>Lakeview Hecla Resort</td>\n",
       "      <td>If you love to golf, this resort will not disa...</td>\n",
       "      <td>4</td>\n",
       "      <td>1</td>\n",
       "      <td>0.9866</td>\n",
       "    </tr>\n",
       "    <tr>\n",
       "      <th>1</th>\n",
       "      <td>Lakeview Hecla Resort</td>\n",
       "      <td>Stayed here for one night on the Stay and Play...</td>\n",
       "      <td>4</td>\n",
       "      <td>1</td>\n",
       "      <td>0.9665</td>\n",
       "    </tr>\n",
       "    <tr>\n",
       "      <th>2</th>\n",
       "      <td>Lakeview Hecla Resort</td>\n",
       "      <td>we called the day we checked in to have mainte...</td>\n",
       "      <td>2</td>\n",
       "      <td>0</td>\n",
       "      <td>-0.2296</td>\n",
       "    </tr>\n",
       "    <tr>\n",
       "      <th>3</th>\n",
       "      <td>Lakeview Hecla Resort</td>\n",
       "      <td>This was our first visit to Lakeview Resort. B...</td>\n",
       "      <td>4</td>\n",
       "      <td>1</td>\n",
       "      <td>0.9779</td>\n",
       "    </tr>\n",
       "    <tr>\n",
       "      <th>4</th>\n",
       "      <td>Lakeview Hecla Resort</td>\n",
       "      <td>Great place if you like outdoor winter activit...</td>\n",
       "      <td>5</td>\n",
       "      <td>1</td>\n",
       "      <td>0.9643</td>\n",
       "    </tr>\n",
       "  </tbody>\n",
       "</table>\n",
       "</div>"
      ],
      "text/plain": [
       "              hotel_name                                             review  \\\n",
       "0  Lakeview Hecla Resort  If you love to golf, this resort will not disa...   \n",
       "1  Lakeview Hecla Resort  Stayed here for one night on the Stay and Play...   \n",
       "2  Lakeview Hecla Resort  we called the day we checked in to have mainte...   \n",
       "3  Lakeview Hecla Resort  This was our first visit to Lakeview Resort. B...   \n",
       "4  Lakeview Hecla Resort  Great place if you like outdoor winter activit...   \n",
       "\n",
       "   rating  groundTruth   vader  \n",
       "0       4            1  0.9866  \n",
       "1       4            1  0.9665  \n",
       "2       2            0 -0.2296  \n",
       "3       4            1  0.9779  \n",
       "4       5            1  0.9643  "
      ]
     },
     "execution_count": 10,
     "metadata": {},
     "output_type": "execute_result"
    }
   ],
   "source": [
    "reviewsDF.head()"
   ]
  },
  {
   "cell_type": "code",
   "execution_count": 11,
   "metadata": {},
   "outputs": [],
   "source": [
    "review_avgDF = reviewsDF.groupby('hotel_name')['rating','vader'].mean().reset_index()"
   ]
  },
  {
   "cell_type": "code",
   "execution_count": 12,
   "metadata": {},
   "outputs": [
    {
     "data": {
      "text/html": [
       "<div>\n",
       "<style scoped>\n",
       "    .dataframe tbody tr th:only-of-type {\n",
       "        vertical-align: middle;\n",
       "    }\n",
       "\n",
       "    .dataframe tbody tr th {\n",
       "        vertical-align: top;\n",
       "    }\n",
       "\n",
       "    .dataframe thead th {\n",
       "        text-align: right;\n",
       "    }\n",
       "</style>\n",
       "<table border=\"1\" class=\"dataframe\">\n",
       "  <thead>\n",
       "    <tr style=\"text-align: right;\">\n",
       "      <th></th>\n",
       "      <th>hotel_name</th>\n",
       "      <th>rating</th>\n",
       "      <th>vader</th>\n",
       "    </tr>\n",
       "  </thead>\n",
       "  <tbody>\n",
       "    <tr>\n",
       "      <th>0</th>\n",
       "      <td>Airport Motor Inn</td>\n",
       "      <td>1.000000</td>\n",
       "      <td>-0.638038</td>\n",
       "    </tr>\n",
       "    <tr>\n",
       "      <th>1</th>\n",
       "      <td>Andersen Inn and Suites</td>\n",
       "      <td>4.050000</td>\n",
       "      <td>0.798015</td>\n",
       "    </tr>\n",
       "    <tr>\n",
       "      <th>2</th>\n",
       "      <td>Best Western Plus Brandon Inn</td>\n",
       "      <td>4.240000</td>\n",
       "      <td>0.750548</td>\n",
       "    </tr>\n",
       "    <tr>\n",
       "      <th>3</th>\n",
       "      <td>Best Western Plus Pembina Inn &amp; Suites</td>\n",
       "      <td>4.719298</td>\n",
       "      <td>0.934356</td>\n",
       "    </tr>\n",
       "    <tr>\n",
       "      <th>4</th>\n",
       "      <td>Best Western Plus Winnipeg Airport Hotel</td>\n",
       "      <td>4.368421</td>\n",
       "      <td>0.811029</td>\n",
       "    </tr>\n",
       "  </tbody>\n",
       "</table>\n",
       "</div>"
      ],
      "text/plain": [
       "                                 hotel_name    rating     vader\n",
       "0                         Airport Motor Inn  1.000000 -0.638038\n",
       "1                   Andersen Inn and Suites  4.050000  0.798015\n",
       "2             Best Western Plus Brandon Inn  4.240000  0.750548\n",
       "3    Best Western Plus Pembina Inn & Suites  4.719298  0.934356\n",
       "4  Best Western Plus Winnipeg Airport Hotel  4.368421  0.811029"
      ]
     },
     "execution_count": 12,
     "metadata": {},
     "output_type": "execute_result"
    }
   ],
   "source": [
    "review_avgDF.head()"
   ]
  },
  {
   "cell_type": "markdown",
   "metadata": {},
   "source": [
    "## Q1 (b)"
   ]
  },
  {
   "cell_type": "code",
   "execution_count": 13,
   "metadata": {},
   "outputs": [],
   "source": [
    "rank_ratingDF = review_avgDF.sort_values(by='rating', ascending=False) "
   ]
  },
  {
   "cell_type": "code",
   "execution_count": 14,
   "metadata": {},
   "outputs": [
    {
     "data": {
      "text/html": [
       "<div>\n",
       "<style scoped>\n",
       "    .dataframe tbody tr th:only-of-type {\n",
       "        vertical-align: middle;\n",
       "    }\n",
       "\n",
       "    .dataframe tbody tr th {\n",
       "        vertical-align: top;\n",
       "    }\n",
       "\n",
       "    .dataframe thead th {\n",
       "        text-align: right;\n",
       "    }\n",
       "</style>\n",
       "<table border=\"1\" class=\"dataframe\">\n",
       "  <thead>\n",
       "    <tr style=\"text-align: right;\">\n",
       "      <th></th>\n",
       "      <th>hotel_name</th>\n",
       "      <th>rating</th>\n",
       "      <th>vader</th>\n",
       "    </tr>\n",
       "  </thead>\n",
       "  <tbody>\n",
       "    <tr>\n",
       "      <th>17</th>\n",
       "      <td>Canalta Selkirk</td>\n",
       "      <td>5.000000</td>\n",
       "      <td>0.971500</td>\n",
       "    </tr>\n",
       "    <tr>\n",
       "      <th>48</th>\n",
       "      <td>Inverness Falls Resort</td>\n",
       "      <td>5.000000</td>\n",
       "      <td>0.976900</td>\n",
       "    </tr>\n",
       "    <tr>\n",
       "      <th>54</th>\n",
       "      <td>Lazy Bear Lodge</td>\n",
       "      <td>5.000000</td>\n",
       "      <td>0.968867</td>\n",
       "    </tr>\n",
       "    <tr>\n",
       "      <th>60</th>\n",
       "      <td>Norwood Hotel</td>\n",
       "      <td>4.888889</td>\n",
       "      <td>0.826167</td>\n",
       "    </tr>\n",
       "    <tr>\n",
       "      <th>25</th>\n",
       "      <td>Courtyard Winnipeg Airport</td>\n",
       "      <td>4.772727</td>\n",
       "      <td>0.931173</td>\n",
       "    </tr>\n",
       "  </tbody>\n",
       "</table>\n",
       "</div>"
      ],
      "text/plain": [
       "                    hotel_name    rating     vader\n",
       "17             Canalta Selkirk  5.000000  0.971500\n",
       "48      Inverness Falls Resort  5.000000  0.976900\n",
       "54             Lazy Bear Lodge  5.000000  0.968867\n",
       "60               Norwood Hotel  4.888889  0.826167\n",
       "25  Courtyard Winnipeg Airport  4.772727  0.931173"
      ]
     },
     "execution_count": 14,
     "metadata": {},
     "output_type": "execute_result"
    }
   ],
   "source": [
    "rank_ratingDF.head() # top 5 hotels based on rating"
   ]
  },
  {
   "cell_type": "code",
   "execution_count": 15,
   "metadata": {},
   "outputs": [
    {
     "data": {
      "text/html": [
       "<div>\n",
       "<style scoped>\n",
       "    .dataframe tbody tr th:only-of-type {\n",
       "        vertical-align: middle;\n",
       "    }\n",
       "\n",
       "    .dataframe tbody tr th {\n",
       "        vertical-align: top;\n",
       "    }\n",
       "\n",
       "    .dataframe thead th {\n",
       "        text-align: right;\n",
       "    }\n",
       "</style>\n",
       "<table border=\"1\" class=\"dataframe\">\n",
       "  <thead>\n",
       "    <tr style=\"text-align: right;\">\n",
       "      <th></th>\n",
       "      <th>hotel_name</th>\n",
       "      <th>rating</th>\n",
       "      <th>vader</th>\n",
       "    </tr>\n",
       "  </thead>\n",
       "  <tbody>\n",
       "    <tr>\n",
       "      <th>31</th>\n",
       "      <td>Econo Lodge</td>\n",
       "      <td>2.333333</td>\n",
       "      <td>0.550400</td>\n",
       "    </tr>\n",
       "    <tr>\n",
       "      <th>85</th>\n",
       "      <td>Viscount Gort Hotel Banquet and Conference Centre</td>\n",
       "      <td>2.333333</td>\n",
       "      <td>0.461633</td>\n",
       "    </tr>\n",
       "    <tr>\n",
       "      <th>61</th>\n",
       "      <td>Park West Inn</td>\n",
       "      <td>2.000000</td>\n",
       "      <td>0.589133</td>\n",
       "    </tr>\n",
       "    <tr>\n",
       "      <th>90</th>\n",
       "      <td>Winnipeg Thriftlodge</td>\n",
       "      <td>1.727273</td>\n",
       "      <td>-0.003309</td>\n",
       "    </tr>\n",
       "    <tr>\n",
       "      <th>0</th>\n",
       "      <td>Airport Motor Inn</td>\n",
       "      <td>1.000000</td>\n",
       "      <td>-0.638038</td>\n",
       "    </tr>\n",
       "  </tbody>\n",
       "</table>\n",
       "</div>"
      ],
      "text/plain": [
       "                                           hotel_name    rating     vader\n",
       "31                                        Econo Lodge  2.333333  0.550400\n",
       "85  Viscount Gort Hotel Banquet and Conference Centre  2.333333  0.461633\n",
       "61                                      Park West Inn  2.000000  0.589133\n",
       "90                               Winnipeg Thriftlodge  1.727273 -0.003309\n",
       "0                                   Airport Motor Inn  1.000000 -0.638038"
      ]
     },
     "execution_count": 15,
     "metadata": {},
     "output_type": "execute_result"
    }
   ],
   "source": [
    "rank_ratingDF.tail() # bottom 5 hotels based on rating"
   ]
  },
  {
   "cell_type": "code",
   "execution_count": 16,
   "metadata": {},
   "outputs": [],
   "source": [
    "rank_vaderDF = review_avgDF.sort_values(by='vader', ascending=False)"
   ]
  },
  {
   "cell_type": "code",
   "execution_count": 17,
   "metadata": {},
   "outputs": [
    {
     "data": {
      "text/html": [
       "<div>\n",
       "<style scoped>\n",
       "    .dataframe tbody tr th:only-of-type {\n",
       "        vertical-align: middle;\n",
       "    }\n",
       "\n",
       "    .dataframe tbody tr th {\n",
       "        vertical-align: top;\n",
       "    }\n",
       "\n",
       "    .dataframe thead th {\n",
       "        text-align: right;\n",
       "    }\n",
       "</style>\n",
       "<table border=\"1\" class=\"dataframe\">\n",
       "  <thead>\n",
       "    <tr style=\"text-align: right;\">\n",
       "      <th></th>\n",
       "      <th>hotel_name</th>\n",
       "      <th>rating</th>\n",
       "      <th>vader</th>\n",
       "    </tr>\n",
       "  </thead>\n",
       "  <tbody>\n",
       "    <tr>\n",
       "      <th>75</th>\n",
       "      <td>Super 8 Winnipeg West</td>\n",
       "      <td>4.5</td>\n",
       "      <td>0.978050</td>\n",
       "    </tr>\n",
       "    <tr>\n",
       "      <th>48</th>\n",
       "      <td>Inverness Falls Resort</td>\n",
       "      <td>5.0</td>\n",
       "      <td>0.976900</td>\n",
       "    </tr>\n",
       "    <tr>\n",
       "      <th>17</th>\n",
       "      <td>Canalta Selkirk</td>\n",
       "      <td>5.0</td>\n",
       "      <td>0.971500</td>\n",
       "    </tr>\n",
       "    <tr>\n",
       "      <th>84</th>\n",
       "      <td>Victoria Inn Hotel &amp; Convention Centre</td>\n",
       "      <td>4.0</td>\n",
       "      <td>0.971329</td>\n",
       "    </tr>\n",
       "    <tr>\n",
       "      <th>54</th>\n",
       "      <td>Lazy Bear Lodge</td>\n",
       "      <td>5.0</td>\n",
       "      <td>0.968867</td>\n",
       "    </tr>\n",
       "  </tbody>\n",
       "</table>\n",
       "</div>"
      ],
      "text/plain": [
       "                                hotel_name  rating     vader\n",
       "75                   Super 8 Winnipeg West     4.5  0.978050\n",
       "48                  Inverness Falls Resort     5.0  0.976900\n",
       "17                         Canalta Selkirk     5.0  0.971500\n",
       "84  Victoria Inn Hotel & Convention Centre     4.0  0.971329\n",
       "54                         Lazy Bear Lodge     5.0  0.968867"
      ]
     },
     "execution_count": 17,
     "metadata": {},
     "output_type": "execute_result"
    }
   ],
   "source": [
    "rank_vaderDF.head() # top 5 hotels based on vader"
   ]
  },
  {
   "cell_type": "code",
   "execution_count": 18,
   "metadata": {},
   "outputs": [
    {
     "data": {
      "text/html": [
       "<div>\n",
       "<style scoped>\n",
       "    .dataframe tbody tr th:only-of-type {\n",
       "        vertical-align: middle;\n",
       "    }\n",
       "\n",
       "    .dataframe tbody tr th {\n",
       "        vertical-align: top;\n",
       "    }\n",
       "\n",
       "    .dataframe thead th {\n",
       "        text-align: right;\n",
       "    }\n",
       "</style>\n",
       "<table border=\"1\" class=\"dataframe\">\n",
       "  <thead>\n",
       "    <tr style=\"text-align: right;\">\n",
       "      <th></th>\n",
       "      <th>hotel_name</th>\n",
       "      <th>rating</th>\n",
       "      <th>vader</th>\n",
       "    </tr>\n",
       "  </thead>\n",
       "  <tbody>\n",
       "    <tr>\n",
       "      <th>49</th>\n",
       "      <td>Jolly Lodger Motel</td>\n",
       "      <td>2.666667</td>\n",
       "      <td>0.208000</td>\n",
       "    </tr>\n",
       "    <tr>\n",
       "      <th>33</th>\n",
       "      <td>Express By Canad Inns - Fort Garry</td>\n",
       "      <td>4.000000</td>\n",
       "      <td>0.111750</td>\n",
       "    </tr>\n",
       "    <tr>\n",
       "      <th>40</th>\n",
       "      <td>Hi-way Motel</td>\n",
       "      <td>2.800000</td>\n",
       "      <td>0.039980</td>\n",
       "    </tr>\n",
       "    <tr>\n",
       "      <th>90</th>\n",
       "      <td>Winnipeg Thriftlodge</td>\n",
       "      <td>1.727273</td>\n",
       "      <td>-0.003309</td>\n",
       "    </tr>\n",
       "    <tr>\n",
       "      <th>0</th>\n",
       "      <td>Airport Motor Inn</td>\n",
       "      <td>1.000000</td>\n",
       "      <td>-0.638038</td>\n",
       "    </tr>\n",
       "  </tbody>\n",
       "</table>\n",
       "</div>"
      ],
      "text/plain": [
       "                            hotel_name    rating     vader\n",
       "49                  Jolly Lodger Motel  2.666667  0.208000\n",
       "33  Express By Canad Inns - Fort Garry  4.000000  0.111750\n",
       "40                        Hi-way Motel  2.800000  0.039980\n",
       "90                Winnipeg Thriftlodge  1.727273 -0.003309\n",
       "0                    Airport Motor Inn  1.000000 -0.638038"
      ]
     },
     "execution_count": 18,
     "metadata": {},
     "output_type": "execute_result"
    }
   ],
   "source": [
    "rank_vaderDF.tail() # bottom 5 hotels based on vader"
   ]
  },
  {
   "cell_type": "markdown",
   "metadata": {},
   "source": [
    "Most of the rankings match on ratings and vader scores even though the order are a little different. There are some discrepencies on the bottom 5 hotels with these two ranking methods. "
   ]
  },
  {
   "cell_type": "markdown",
   "metadata": {},
   "source": [
    "## Q2  (a)"
   ]
  },
  {
   "cell_type": "code",
   "execution_count": 19,
   "metadata": {},
   "outputs": [],
   "source": [
    "sw = stopwords.words('english')"
   ]
  },
  {
   "cell_type": "code",
   "execution_count": 20,
   "metadata": {},
   "outputs": [],
   "source": [
    "def text_clean(text):\n",
    "    \n",
    "    text = text.lower()\n",
    "    text = re.sub(r'\\S+@\\S+','',text)\n",
    "    text = re.sub(r'\\swww\\S+','',text)\n",
    "    text = re.sub(r'<.+?>+',' ',text)\n",
    "    text = re.sub(r'[<][a].+','',text)\n",
    "    text = re.sub(r'[^a-zA-Z ]','',text)\n",
    "    text = re.sub(r'\\b\\w\\b',' ',text)\n",
    "    text = re.sub(r'hotel|room|rooms|stay|staff','',text)\n",
    "    text = (' ').join([w for w in text.split() if w not in sw])\n",
    "    \n",
    "    return text"
   ]
  },
  {
   "cell_type": "code",
   "execution_count": 21,
   "metadata": {},
   "outputs": [],
   "source": [
    "reviewsDF_copy = reviewsDF.copy()\n",
    "reviewsDF_copy['review'] = reviewsDF_copy.review.apply(text_clean)"
   ]
  },
  {
   "cell_type": "code",
   "execution_count": 22,
   "metadata": {},
   "outputs": [],
   "source": [
    "def freq_words(word_list,k=50):\n",
    "    \n",
    "    counter = Counter()\n",
    "    counter.update(word_list)\n",
    "    return counter.most_common(k)"
   ]
  },
  {
   "cell_type": "code",
   "execution_count": 23,
   "metadata": {},
   "outputs": [],
   "source": [
    "pos_reviews = reviewsDF_copy[reviewsDF_copy['groundTruth']==1].review.tolist()\n",
    "neg_reviews = reviewsDF_copy[reviewsDF_copy['groundTruth']==0].review.tolist()"
   ]
  },
  {
   "cell_type": "code",
   "execution_count": 24,
   "metadata": {},
   "outputs": [],
   "source": [
    "pos_list = []\n",
    "neg_list = []\n",
    "for r in pos_reviews:\n",
    "    pos_list = pos_list+r.split()\n",
    "for r in neg_reviews:\n",
    "    neg_list = neg_list+r.split()"
   ]
  },
  {
   "cell_type": "code",
   "execution_count": 25,
   "metadata": {},
   "outputs": [],
   "source": [
    "pos_freq50 = freq_words(pos_list)\n",
    "neg_freq50 = freq_words(neg_list)"
   ]
  },
  {
   "cell_type": "code",
   "execution_count": 26,
   "metadata": {},
   "outputs": [
    {
     "data": {
      "text/plain": [
       "[('great', 965),\n",
       " ('clean', 768),\n",
       " ('nice', 699),\n",
       " ('good', 691),\n",
       " ('breakfast', 663),\n",
       " ('would', 573),\n",
       " ('ed', 543),\n",
       " ('winnipeg', 513),\n",
       " ('friendly', 511),\n",
       " ('comfortable', 484)]"
      ]
     },
     "execution_count": 26,
     "metadata": {},
     "output_type": "execute_result"
    }
   ],
   "source": [
    "pos_freq50[:10]"
   ]
  },
  {
   "cell_type": "code",
   "execution_count": 27,
   "metadata": {},
   "outputs": [
    {
     "data": {
      "text/plain": [
       "[('would', 269),\n",
       " ('desk', 226),\n",
       " ('night', 214),\n",
       " ('good', 201),\n",
       " ('front', 199),\n",
       " ('clean', 186),\n",
       " ('one', 185),\n",
       " ('nice', 179),\n",
       " ('us', 176),\n",
       " ('ed', 172)]"
      ]
     },
     "execution_count": 27,
     "metadata": {},
     "output_type": "execute_result"
    }
   ],
   "source": [
    "neg_freq50[:10]"
   ]
  },
  {
   "cell_type": "markdown",
   "metadata": {},
   "source": [
    "For the good reviews, some positive words definitely show up more often, like 'great', 'clean', 'nice', 'friendly' and 'comfortable'. Interestingly, some neutual or even poisitive words also show up in negative reviews. "
   ]
  },
  {
   "cell_type": "markdown",
   "metadata": {},
   "source": [
    "## Q2 (b)"
   ]
  },
  {
   "cell_type": "code",
   "execution_count": 28,
   "metadata": {},
   "outputs": [],
   "source": [
    "tagger = PerceptronTagger()"
   ]
  },
  {
   "cell_type": "code",
   "execution_count": 29,
   "metadata": {},
   "outputs": [],
   "source": [
    "# Part of Speech Tagging\n",
    "# Google: https://en.wikipedia.org/wiki/Part-of-speech_tagging\n",
    "pos_tag = tagger.tag\n",
    "#taggedToks = pos_tag(re.findall(r'\\w+', text))\n",
    "#taggedToks"
   ]
  },
  {
   "cell_type": "code",
   "execution_count": 30,
   "metadata": {},
   "outputs": [],
   "source": [
    "grammar = r\"\"\"\n",
    "    NBAR:\n",
    "        {<NN.*|JJ>*<NN.*>}  # Nouns and Adjectives, terminated with Nouns\n",
    "        \n",
    "    NP:\n",
    "        {<NBAR>}\n",
    "        {<NBAR><IN><NBAR>}  # Above, connected with in/of/etc...\n",
    "\"\"\""
   ]
  },
  {
   "cell_type": "code",
   "execution_count": 31,
   "metadata": {},
   "outputs": [],
   "source": [
    "# Create phrase tree\n",
    "chunker = nltk.RegexpParser(grammar)\n",
    "#tree= chunker.parse(taggedToks)"
   ]
  },
  {
   "cell_type": "code",
   "execution_count": 32,
   "metadata": {},
   "outputs": [],
   "source": [
    "# Noun Phrase Extraction Support Functions\n",
    "from nltk.corpus import stopwords\n",
    "stopwords = stopwords.words('english')\n",
    "lemmatizer = nltk.WordNetLemmatizer()\n",
    "stemmer = nltk.stem.porter.PorterStemmer()\n",
    "\n",
    "# generator, generate leaves one by one\n",
    "def leaves(tree):\n",
    "    \"\"\"Finds NP (nounphrase) leaf nodes of a chunk tree.\"\"\"\n",
    "    for subtree in tree.subtrees(filter = lambda t: t.label()=='NP' or t.label()=='JJ' or t.label()=='RB'):\n",
    "        yield subtree.leaves()\n",
    "\n",
    "# stemming, lematizing, lower case... \n",
    "def normalise(word):\n",
    "    \"\"\"Normalises words to lowercase and stems and lemmatizes it.\"\"\"\n",
    "    word = word.lower()\n",
    "    word = stemmer.stem(word)\n",
    "    word = lemmatizer.lemmatize(word)\n",
    "    return word\n",
    "\n",
    "# stop-words and length control\n",
    "def acceptable_word(word):\n",
    "    \"\"\"Checks conditions for acceptable word: length, stopword.\"\"\"\n",
    "    accepted = bool(2 <= len(word) <= 40\n",
    "        and word.lower() not in stopwords)\n",
    "    return accepted\n",
    "\n",
    "# generator, create item once a time\n",
    "def get_terms(tree):\n",
    "    for leaf in leaves(tree):\n",
    "        term = [normalise(w) for w,t in leaf if acceptable_word(w) ]\n",
    "        # Phrase only\n",
    "        if len(term)>1:\n",
    "            yield term"
   ]
  },
  {
   "cell_type": "code",
   "execution_count": 33,
   "metadata": {},
   "outputs": [],
   "source": [
    "# Flatten phrase lists to get tokens for analysis\n",
    "def flatten(npTokenList):\n",
    "    finalList =[]\n",
    "    for phrase in npTokenList:\n",
    "        token = ''\n",
    "        for word in phrase:\n",
    "            token += word + ' '\n",
    "        finalList.append(token.rstrip())\n",
    "    return finalList"
   ]
  },
  {
   "cell_type": "code",
   "execution_count": 34,
   "metadata": {},
   "outputs": [],
   "source": [
    "# Revise the previous dataframe transform function...\n",
    "def newDataFrameTransformation(hotelDF, k=50):\n",
    "    reviews = hotelDF['review'].values\n",
    "    stop = set(sw)\n",
    "    stop.add('hotel')\n",
    "    stop.add('room')\n",
    "    stop.add('rooms')\n",
    "    stop.add('stay')\n",
    "    stop.add('staff')\n",
    "    \n",
    "#     for word in same_phrase:\n",
    "#         stop.append(word)\n",
    "    \n",
    "    # Top-k frequent terms\n",
    "    counter = Counter()\n",
    "    for review in reviews:\n",
    "            counter.update(word for word in flatten([word\n",
    "                            for word \n",
    "                            in get_terms(chunker.parse(pos_tag(re.findall(r'\\w+', review)))) \n",
    "                            ]) if word.lower() not in stop and len(word) > 2)\n",
    "            \n",
    "    topk = counter.most_common(k)        \n",
    "    \n",
    "    #Find out if a particular review has the word from topk list\n",
    "    freqReview = []\n",
    "    for i in range(len(reviews)):\n",
    "        tempCounter = Counter(flatten([word \n",
    "                                       for word \n",
    "                                       in get_terms(chunker.parse(pos_tag(re.findall(r'\\w+',reviews[i]))))]))\n",
    "        topkinReview = [1 if tempCounter[word] > 0 else 0 for (word,wordCount) in topk]\n",
    "        freqReview.append(topkinReview)\n",
    "        \n",
    "        \n",
    "    #Prepare freqReviewDf\n",
    "    freqReviewDf = pd.DataFrame(freqReview)\n",
    "    dfName = []\n",
    "    for c in topk:\n",
    "        dfName.append(c[0])\n",
    "    freqReviewDf.columns = dfName\n",
    "    #finalreviewDf = reviewDF.join(freqReviewDf)\n",
    "    finaldf = hotelDF[['hotel_name','rating','groundTruth']].join(freqReviewDf)\n",
    "    return topk, finaldf"
   ]
  },
  {
   "cell_type": "code",
   "execution_count": 35,
   "metadata": {
    "scrolled": false
   },
   "outputs": [],
   "source": [
    "pos_phrase_top50, pos_phrase_data_top50 = newDataFrameTransformation(reviewsDF_copy[reviewsDF_copy['groundTruth']==1])\n",
    "neg_phrase_top50, neg_phrase_data_top50 = newDataFrameTransformation(reviewsDF_copy[reviewsDF_copy['groundTruth']==0])"
   ]
  },
  {
   "cell_type": "code",
   "execution_count": 36,
   "metadata": {},
   "outputs": [
    {
     "data": {
      "text/plain": [
       "[('front desk', 24),\n",
       " ('fort garri', 22),\n",
       " ('great locat', 20),\n",
       " ('great place', 14),\n",
       " ('next time', 12),\n",
       " ('free wifi', 10),\n",
       " ('coffe maker', 9),\n",
       " ('mani time', 9),\n",
       " ('comfort bed', 8),\n",
       " ('queen bed', 7)]"
      ]
     },
     "execution_count": 36,
     "metadata": {},
     "output_type": "execute_result"
    }
   ],
   "source": [
    "pos_phrase_top50[0:10]"
   ]
  },
  {
   "cell_type": "code",
   "execution_count": 37,
   "metadata": {},
   "outputs": [
    {
     "data": {
      "text/plain": [
       "[('front desk', 35),\n",
       " ('pool area', 10),\n",
       " ('next day', 7),\n",
       " ('hot tub', 6),\n",
       " ('front desk clerk', 6),\n",
       " ('sever time', 4),\n",
       " ('desk clerk', 4),\n",
       " ('queen bed', 4),\n",
       " ('next time', 4),\n",
       " ('ive ed', 3)]"
      ]
     },
     "execution_count": 37,
     "metadata": {},
     "output_type": "execute_result"
    }
   ],
   "source": [
    "neg_phrase_top50[0:10]"
   ]
  },
  {
   "cell_type": "markdown",
   "metadata": {},
   "source": [
    "By looking at the comparisons on phrases, it seems more informative than just words. "
   ]
  },
  {
   "cell_type": "markdown",
   "metadata": {},
   "source": [
    "## Q3 (a)"
   ]
  },
  {
   "cell_type": "code",
   "execution_count": 38,
   "metadata": {},
   "outputs": [],
   "source": [
    "def dataFrameTransformation(reviewsDF, k=500):\n",
    "    reviews = reviewsDF['review'].values\n",
    "    \n",
    "    stop = set(sw)\n",
    "    stop.add('hotel')\n",
    "    stop.add('room')\n",
    "    stop.add('rooms')\n",
    "    stop.add('stay')\n",
    "    stop.add('staff')\n",
    "    \n",
    "    # Top-k frequent terms\n",
    "    counter = Counter()\n",
    "    for review in reviews:\n",
    "            counter.update([word.lower() \n",
    "                            for word \n",
    "                            in re.findall(r'\\w+', review) \n",
    "                            if word.lower() not in stop and len(word) > 2])\n",
    "    topk = counter.most_common(k)        \n",
    "    \n",
    "    #Find out if a particular review has the word from topk list\n",
    "    freqReview = []\n",
    "    for i in range(len(reviews)):\n",
    "        tempCounter = Counter([word.lower() for word in re.findall(r'\\w+',reviews[i])])\n",
    "        topkinReview = [1 if tempCounter[word] > 0 else 0 for (word,wordCount) in topk]\n",
    "        freqReview.append(topkinReview)\n",
    "        \n",
    "        \n",
    "    #Prepare freqReviewDf\n",
    "    freqReviewDF = pd.DataFrame(freqReview)\n",
    "    dfName = []\n",
    "    for c in topk:\n",
    "        dfName.append(c[0])\n",
    "    freqReviewDF.columns = dfName\n",
    "    finalDF = reviewsDF.join(freqReviewDF)\n",
    "#     finaldf = hotelDf[['hotel_name','rating','groundTruth']].join(finalreviewDf)\n",
    "    return topk, finalDF"
   ]
  },
  {
   "cell_type": "code",
   "execution_count": 39,
   "metadata": {
    "scrolled": true
   },
   "outputs": [],
   "source": [
    "topk, finaldf = dataFrameTransformation(reviewsDF_copy)"
   ]
  },
  {
   "cell_type": "code",
   "execution_count": 40,
   "metadata": {
    "scrolled": true
   },
   "outputs": [
    {
     "data": {
      "text/html": [
       "<div>\n",
       "<style scoped>\n",
       "    .dataframe tbody tr th:only-of-type {\n",
       "        vertical-align: middle;\n",
       "    }\n",
       "\n",
       "    .dataframe tbody tr th {\n",
       "        vertical-align: top;\n",
       "    }\n",
       "\n",
       "    .dataframe thead th {\n",
       "        text-align: right;\n",
       "    }\n",
       "</style>\n",
       "<table border=\"1\" class=\"dataframe\">\n",
       "  <thead>\n",
       "    <tr style=\"text-align: right;\">\n",
       "      <th></th>\n",
       "      <th>hotel_name</th>\n",
       "      <th>review</th>\n",
       "      <th>rating</th>\n",
       "      <th>groundTruth</th>\n",
       "      <th>vader</th>\n",
       "      <th>great</th>\n",
       "      <th>clean</th>\n",
       "      <th>good</th>\n",
       "      <th>nice</th>\n",
       "      <th>would</th>\n",
       "      <th>...</th>\n",
       "      <th>luggage</th>\n",
       "      <th>touch</th>\n",
       "      <th>limited</th>\n",
       "      <th>resort</th>\n",
       "      <th>finally</th>\n",
       "      <th>brought</th>\n",
       "      <th>future</th>\n",
       "      <th>rest</th>\n",
       "      <th>offer</th>\n",
       "      <th>otherwise</th>\n",
       "    </tr>\n",
       "  </thead>\n",
       "  <tbody>\n",
       "    <tr>\n",
       "      <th>0</th>\n",
       "      <td>Lakeview Hecla Resort</td>\n",
       "      <td>love golf resort disappoint great picturesque ...</td>\n",
       "      <td>4</td>\n",
       "      <td>1</td>\n",
       "      <td>0.9866</td>\n",
       "      <td>1.0</td>\n",
       "      <td>1.0</td>\n",
       "      <td>1.0</td>\n",
       "      <td>0.0</td>\n",
       "      <td>0.0</td>\n",
       "      <td>...</td>\n",
       "      <td>0.0</td>\n",
       "      <td>0.0</td>\n",
       "      <td>0.0</td>\n",
       "      <td>1.0</td>\n",
       "      <td>1.0</td>\n",
       "      <td>0.0</td>\n",
       "      <td>0.0</td>\n",
       "      <td>0.0</td>\n",
       "      <td>0.0</td>\n",
       "      <td>0.0</td>\n",
       "    </tr>\n",
       "    <tr>\n",
       "      <th>1</th>\n",
       "      <td>Lakeview Hecla Resort</td>\n",
       "      <td>ed one night play package price reasonable gol...</td>\n",
       "      <td>4</td>\n",
       "      <td>1</td>\n",
       "      <td>0.9665</td>\n",
       "      <td>1.0</td>\n",
       "      <td>0.0</td>\n",
       "      <td>0.0</td>\n",
       "      <td>1.0</td>\n",
       "      <td>1.0</td>\n",
       "      <td>...</td>\n",
       "      <td>0.0</td>\n",
       "      <td>0.0</td>\n",
       "      <td>0.0</td>\n",
       "      <td>0.0</td>\n",
       "      <td>0.0</td>\n",
       "      <td>0.0</td>\n",
       "      <td>0.0</td>\n",
       "      <td>0.0</td>\n",
       "      <td>0.0</td>\n",
       "      <td>0.0</td>\n",
       "    </tr>\n",
       "    <tr>\n",
       "      <th>2</th>\n",
       "      <td>Lakeview Hecla Resort</td>\n",
       "      <td>called day checked maintenance look ac working...</td>\n",
       "      <td>2</td>\n",
       "      <td>0</td>\n",
       "      <td>-0.2296</td>\n",
       "      <td>0.0</td>\n",
       "      <td>1.0</td>\n",
       "      <td>0.0</td>\n",
       "      <td>0.0</td>\n",
       "      <td>0.0</td>\n",
       "      <td>...</td>\n",
       "      <td>0.0</td>\n",
       "      <td>0.0</td>\n",
       "      <td>0.0</td>\n",
       "      <td>1.0</td>\n",
       "      <td>1.0</td>\n",
       "      <td>0.0</td>\n",
       "      <td>0.0</td>\n",
       "      <td>0.0</td>\n",
       "      <td>0.0</td>\n",
       "      <td>0.0</td>\n",
       "    </tr>\n",
       "    <tr>\n",
       "      <th>3</th>\n",
       "      <td>Lakeview Hecla Resort</td>\n",
       "      <td>first visit lakeview resort beautiful resort s...</td>\n",
       "      <td>4</td>\n",
       "      <td>1</td>\n",
       "      <td>0.9779</td>\n",
       "      <td>0.0</td>\n",
       "      <td>1.0</td>\n",
       "      <td>1.0</td>\n",
       "      <td>0.0</td>\n",
       "      <td>1.0</td>\n",
       "      <td>...</td>\n",
       "      <td>0.0</td>\n",
       "      <td>0.0</td>\n",
       "      <td>0.0</td>\n",
       "      <td>1.0</td>\n",
       "      <td>1.0</td>\n",
       "      <td>1.0</td>\n",
       "      <td>0.0</td>\n",
       "      <td>0.0</td>\n",
       "      <td>0.0</td>\n",
       "      <td>0.0</td>\n",
       "    </tr>\n",
       "    <tr>\n",
       "      <th>4</th>\n",
       "      <td>Lakeview Hecla Resort</td>\n",
       "      <td>great place like outdoor winter activities lik...</td>\n",
       "      <td>5</td>\n",
       "      <td>1</td>\n",
       "      <td>0.9643</td>\n",
       "      <td>1.0</td>\n",
       "      <td>0.0</td>\n",
       "      <td>0.0</td>\n",
       "      <td>0.0</td>\n",
       "      <td>0.0</td>\n",
       "      <td>...</td>\n",
       "      <td>0.0</td>\n",
       "      <td>0.0</td>\n",
       "      <td>0.0</td>\n",
       "      <td>0.0</td>\n",
       "      <td>0.0</td>\n",
       "      <td>0.0</td>\n",
       "      <td>1.0</td>\n",
       "      <td>0.0</td>\n",
       "      <td>0.0</td>\n",
       "      <td>0.0</td>\n",
       "    </tr>\n",
       "  </tbody>\n",
       "</table>\n",
       "<p>5 rows × 505 columns</p>\n",
       "</div>"
      ],
      "text/plain": [
       "              hotel_name                                             review  \\\n",
       "0  Lakeview Hecla Resort  love golf resort disappoint great picturesque ...   \n",
       "1  Lakeview Hecla Resort  ed one night play package price reasonable gol...   \n",
       "2  Lakeview Hecla Resort  called day checked maintenance look ac working...   \n",
       "3  Lakeview Hecla Resort  first visit lakeview resort beautiful resort s...   \n",
       "4  Lakeview Hecla Resort  great place like outdoor winter activities lik...   \n",
       "\n",
       "   rating  groundTruth   vader  great  clean  good  nice  would    ...      \\\n",
       "0       4            1  0.9866    1.0    1.0   1.0   0.0    0.0    ...       \n",
       "1       4            1  0.9665    1.0    0.0   0.0   1.0    1.0    ...       \n",
       "2       2            0 -0.2296    0.0    1.0   0.0   0.0    0.0    ...       \n",
       "3       4            1  0.9779    0.0    1.0   1.0   0.0    1.0    ...       \n",
       "4       5            1  0.9643    1.0    0.0   0.0   0.0    0.0    ...       \n",
       "\n",
       "   luggage  touch  limited  resort  finally  brought  future  rest  offer  \\\n",
       "0      0.0    0.0      0.0     1.0      1.0      0.0     0.0   0.0    0.0   \n",
       "1      0.0    0.0      0.0     0.0      0.0      0.0     0.0   0.0    0.0   \n",
       "2      0.0    0.0      0.0     1.0      1.0      0.0     0.0   0.0    0.0   \n",
       "3      0.0    0.0      0.0     1.0      1.0      1.0     0.0   0.0    0.0   \n",
       "4      0.0    0.0      0.0     0.0      0.0      0.0     1.0   0.0    0.0   \n",
       "\n",
       "   otherwise  \n",
       "0        0.0  \n",
       "1        0.0  \n",
       "2        0.0  \n",
       "3        0.0  \n",
       "4        0.0  \n",
       "\n",
       "[5 rows x 505 columns]"
      ]
     },
     "execution_count": 40,
     "metadata": {},
     "output_type": "execute_result"
    }
   ],
   "source": [
    "finaldf.head()"
   ]
  },
  {
   "cell_type": "code",
   "execution_count": 41,
   "metadata": {},
   "outputs": [],
   "source": [
    "# get Top K mutual information terms from the dataframe\n",
    "def getMI(topk, df, label_column='groundTruth'):\n",
    "    miScore = []\n",
    "    for word in topk:\n",
    "        miScore.append([word[0]]+[metrics.mutual_info_score(df[label_column], df[word[0]])])\n",
    "    miScoredf = pd.DataFrame(miScore).sort_values(1,ascending=0)\n",
    "    miScoredf.columns = ['Word','MI Score']\n",
    "    return miScoredf"
   ]
  },
  {
   "cell_type": "code",
   "execution_count": 42,
   "metadata": {},
   "outputs": [],
   "source": [
    "miScoreDF = getMI(topk, finaldf)"
   ]
  },
  {
   "cell_type": "code",
   "execution_count": 43,
   "metadata": {},
   "outputs": [
    {
     "data": {
      "text/html": [
       "<div>\n",
       "<style scoped>\n",
       "    .dataframe tbody tr th:only-of-type {\n",
       "        vertical-align: middle;\n",
       "    }\n",
       "\n",
       "    .dataframe tbody tr th {\n",
       "        vertical-align: top;\n",
       "    }\n",
       "\n",
       "    .dataframe thead th {\n",
       "        text-align: right;\n",
       "    }\n",
       "</style>\n",
       "<table border=\"1\" class=\"dataframe\">\n",
       "  <thead>\n",
       "    <tr style=\"text-align: right;\">\n",
       "      <th></th>\n",
       "      <th>Word</th>\n",
       "      <th>MI Score</th>\n",
       "    </tr>\n",
       "  </thead>\n",
       "  <tbody>\n",
       "    <tr>\n",
       "      <th>87</th>\n",
       "      <td>experience</td>\n",
       "      <td>0.052663</td>\n",
       "    </tr>\n",
       "    <tr>\n",
       "      <th>475</th>\n",
       "      <td>provide</td>\n",
       "      <td>0.051633</td>\n",
       "    </tr>\n",
       "    <tr>\n",
       "      <th>304</th>\n",
       "      <td>three</td>\n",
       "      <td>0.051431</td>\n",
       "    </tr>\n",
       "    <tr>\n",
       "      <th>33</th>\n",
       "      <td>parking</td>\n",
       "      <td>0.051040</td>\n",
       "    </tr>\n",
       "    <tr>\n",
       "      <th>207</th>\n",
       "      <td>motel</td>\n",
       "      <td>0.050999</td>\n",
       "    </tr>\n",
       "    <tr>\n",
       "      <th>288</th>\n",
       "      <td>gym</td>\n",
       "      <td>0.050903</td>\n",
       "    </tr>\n",
       "    <tr>\n",
       "      <th>341</th>\n",
       "      <td>grand</td>\n",
       "      <td>0.050901</td>\n",
       "    </tr>\n",
       "    <tr>\n",
       "      <th>381</th>\n",
       "      <td>might</td>\n",
       "      <td>0.050901</td>\n",
       "    </tr>\n",
       "    <tr>\n",
       "      <th>26</th>\n",
       "      <td>like</td>\n",
       "      <td>0.050900</td>\n",
       "    </tr>\n",
       "    <tr>\n",
       "      <th>355</th>\n",
       "      <td>selection</td>\n",
       "      <td>0.050876</td>\n",
       "    </tr>\n",
       "  </tbody>\n",
       "</table>\n",
       "</div>"
      ],
      "text/plain": [
       "           Word  MI Score\n",
       "87   experience  0.052663\n",
       "475     provide  0.051633\n",
       "304       three  0.051431\n",
       "33      parking  0.051040\n",
       "207       motel  0.050999\n",
       "288         gym  0.050903\n",
       "341       grand  0.050901\n",
       "381       might  0.050901\n",
       "26         like  0.050900\n",
       "355   selection  0.050876"
      ]
     },
     "execution_count": 43,
     "metadata": {},
     "output_type": "execute_result"
    }
   ],
   "source": [
    "miScoreDF.head(10)"
   ]
  },
  {
   "cell_type": "markdown",
   "metadata": {},
   "source": [
    "There are definitely some words that are good indicators of positive or negative reviews, such as 'experience', 'provide', 'parking', 'gym'. "
   ]
  },
  {
   "cell_type": "markdown",
   "metadata": {},
   "source": [
    "## Q3 (b)"
   ]
  },
  {
   "cell_type": "code",
   "execution_count": 44,
   "metadata": {},
   "outputs": [],
   "source": [
    "topk_phrase_mi, topk_phrase_mi_data = newDataFrameTransformation(reviewsDF_copy)"
   ]
  },
  {
   "cell_type": "code",
   "execution_count": 45,
   "metadata": {},
   "outputs": [],
   "source": [
    "phrase_miScoreDF = getMI(topk_phrase_mi, topk_phrase_mi_data)"
   ]
  },
  {
   "cell_type": "code",
   "execution_count": 46,
   "metadata": {
    "scrolled": true
   },
   "outputs": [
    {
     "data": {
      "text/html": [
       "<div>\n",
       "<style scoped>\n",
       "    .dataframe tbody tr th:only-of-type {\n",
       "        vertical-align: middle;\n",
       "    }\n",
       "\n",
       "    .dataframe tbody tr th {\n",
       "        vertical-align: top;\n",
       "    }\n",
       "\n",
       "    .dataframe thead th {\n",
       "        text-align: right;\n",
       "    }\n",
       "</style>\n",
       "<table border=\"1\" class=\"dataframe\">\n",
       "  <thead>\n",
       "    <tr style=\"text-align: right;\">\n",
       "      <th></th>\n",
       "      <th>Word</th>\n",
       "      <th>MI Score</th>\n",
       "    </tr>\n",
       "  </thead>\n",
       "  <tbody>\n",
       "    <tr>\n",
       "      <th>9</th>\n",
       "      <td>mani time</td>\n",
       "      <td>0.050807</td>\n",
       "    </tr>\n",
       "    <tr>\n",
       "      <th>13</th>\n",
       "      <td>great experi</td>\n",
       "      <td>0.050572</td>\n",
       "    </tr>\n",
       "    <tr>\n",
       "      <th>2</th>\n",
       "      <td>great locat</td>\n",
       "      <td>0.050240</td>\n",
       "    </tr>\n",
       "    <tr>\n",
       "      <th>20</th>\n",
       "      <td>custom servic</td>\n",
       "      <td>0.050220</td>\n",
       "    </tr>\n",
       "    <tr>\n",
       "      <th>21</th>\n",
       "      <td>good locat</td>\n",
       "      <td>0.050220</td>\n",
       "    </tr>\n",
       "    <tr>\n",
       "      <th>12</th>\n",
       "      <td>sever time</td>\n",
       "      <td>0.050119</td>\n",
       "    </tr>\n",
       "    <tr>\n",
       "      <th>45</th>\n",
       "      <td>distanc fork</td>\n",
       "      <td>0.050103</td>\n",
       "    </tr>\n",
       "    <tr>\n",
       "      <th>43</th>\n",
       "      <td>reason price</td>\n",
       "      <td>0.050103</td>\n",
       "    </tr>\n",
       "    <tr>\n",
       "      <th>42</th>\n",
       "      <td>next morn</td>\n",
       "      <td>0.050103</td>\n",
       "    </tr>\n",
       "    <tr>\n",
       "      <th>34</th>\n",
       "      <td>second floor</td>\n",
       "      <td>0.050103</td>\n",
       "    </tr>\n",
       "  </tbody>\n",
       "</table>\n",
       "</div>"
      ],
      "text/plain": [
       "             Word  MI Score\n",
       "9       mani time  0.050807\n",
       "13   great experi  0.050572\n",
       "2     great locat  0.050240\n",
       "20  custom servic  0.050220\n",
       "21     good locat  0.050220\n",
       "12     sever time  0.050119\n",
       "45   distanc fork  0.050103\n",
       "43   reason price  0.050103\n",
       "42      next morn  0.050103\n",
       "34   second floor  0.050103"
      ]
     },
     "execution_count": 46,
     "metadata": {},
     "output_type": "execute_result"
    }
   ],
   "source": [
    "phrase_miScoreDF.head(10)"
   ]
  },
  {
   "cell_type": "markdown",
   "metadata": {},
   "source": [
    "The phrases tell a little more than the words in indicating the sentimet of a review. Like 'great experience', 'great location'. "
   ]
  },
  {
   "cell_type": "markdown",
   "metadata": {},
   "source": [
    "## Q4 (a)"
   ]
  },
  {
   "cell_type": "code",
   "execution_count": 47,
   "metadata": {},
   "outputs": [],
   "source": [
    "def pmiCal(df, x):\n",
    "    pmilist=[]\n",
    "    for i in [1,0]:\n",
    "        for j in [0,1]:\n",
    "            px = sum(df['groundTruth']==i)/len(df)\n",
    "            py = sum(df[x]==j)/len(df)\n",
    "            pxy = len(df[(df['groundTruth']==i) & (df[x]==j)])/len(df)\n",
    "            if pxy==0:#Log 0 cannot happen\n",
    "                pmi = math.log((pxy+0.0001)/(px*py + 0.0001))\n",
    "            else:\n",
    "                pmi = math.log(pxy/(px*py + 0.0001))\n",
    "            pmilist.append([i]+[j]+[px]+[py]+[pxy]+[pmi])\n",
    "    pmidf = pd.DataFrame(pmilist)\n",
    "    pmidf.columns = ['x','y','px','py','pxy','pmi']\n",
    "    return pmidf"
   ]
  },
  {
   "cell_type": "code",
   "execution_count": 48,
   "metadata": {},
   "outputs": [],
   "source": [
    "def pmiIndivCal(df,x,gt, label_column='groundTruth'):\n",
    "    px = sum(df[label_column]==gt)/len(df)\n",
    "    py = sum(df[x]==1)/len(df)\n",
    "    pxy = len(df[(df[label_column]==gt) & (df[x]==1)])/len(df)\n",
    "    if pxy==0:#Log 0 cannot happen\n",
    "        pmi = math.log((pxy+0.0001)/(px*py + 0.0001))\n",
    "    else:\n",
    "        pmi = math.log(pxy/(px*py))\n",
    "    return pmi"
   ]
  },
  {
   "cell_type": "code",
   "execution_count": 49,
   "metadata": {},
   "outputs": [],
   "source": [
    "# Compute PMI for all terms and all possible labels\n",
    "def pmiForAllCal(df, label_column, topk):\n",
    "    #Try calculate all the pmi for top k and store them into one pmidf dataframe\n",
    "    pmilist = []\n",
    "    pmiposlist = []\n",
    "    pmineglist = []\n",
    "    for word in tqdm(topk):\n",
    "        pmilist.append([word[0]]+[pmiCal(df,word[0])])\n",
    "        pmiposlist.append([word[0]]+[pmiIndivCal(df,word[0],1,label_column)])\n",
    "        pmineglist.append([word[0]]+[pmiIndivCal(df,word[0],0,label_column)])\n",
    "    pmidf = pd.DataFrame(pmilist)\n",
    "    pmiposlist = pd.DataFrame(pmiposlist)\n",
    "    pmineglist = pd.DataFrame(pmineglist)\n",
    "    pmiposlist.columns = ['word','pmi']\n",
    "    pmineglist.columns = ['word','pmi']\n",
    "    pmidf.columns = ['word','pmi']\n",
    "    return pmiposlist, pmineglist, pmidf"
   ]
  },
  {
   "cell_type": "code",
   "execution_count": 50,
   "metadata": {},
   "outputs": [],
   "source": [
    "top50, top50_data = dataFrameTransformation(reviewsDF_copy, k=50)"
   ]
  },
  {
   "cell_type": "code",
   "execution_count": 51,
   "metadata": {},
   "outputs": [
    {
     "name": "stderr",
     "output_type": "stream",
     "text": [
      "100%|██████████| 50/50 [00:00<00:00, 107.24it/s]\n"
     ]
    }
   ],
   "source": [
    "pmiposlist, pmineglist, pmidf = pmiForAllCal(top50_data,label_column='groundTruth',topk=top50)"
   ]
  },
  {
   "cell_type": "code",
   "execution_count": 52,
   "metadata": {},
   "outputs": [
    {
     "data": {
      "text/html": [
       "<div>\n",
       "<style scoped>\n",
       "    .dataframe tbody tr th:only-of-type {\n",
       "        vertical-align: middle;\n",
       "    }\n",
       "\n",
       "    .dataframe tbody tr th {\n",
       "        vertical-align: top;\n",
       "    }\n",
       "\n",
       "    .dataframe thead th {\n",
       "        text-align: right;\n",
       "    }\n",
       "</style>\n",
       "<table border=\"1\" class=\"dataframe\">\n",
       "  <thead>\n",
       "    <tr style=\"text-align: right;\">\n",
       "      <th></th>\n",
       "      <th>word</th>\n",
       "      <th>pmi</th>\n",
       "    </tr>\n",
       "  </thead>\n",
       "  <tbody>\n",
       "    <tr>\n",
       "      <th>33</th>\n",
       "      <td>parking</td>\n",
       "      <td>0.090239</td>\n",
       "    </tr>\n",
       "    <tr>\n",
       "      <th>26</th>\n",
       "      <td>like</td>\n",
       "      <td>0.077783</td>\n",
       "    </tr>\n",
       "    <tr>\n",
       "      <th>39</th>\n",
       "      <td>always</td>\n",
       "      <td>0.068915</td>\n",
       "    </tr>\n",
       "    <tr>\n",
       "      <th>34</th>\n",
       "      <td>excellent</td>\n",
       "      <td>0.053946</td>\n",
       "    </tr>\n",
       "    <tr>\n",
       "      <th>47</th>\n",
       "      <td>little</td>\n",
       "      <td>0.044878</td>\n",
       "    </tr>\n",
       "    <tr>\n",
       "      <th>23</th>\n",
       "      <td>location</td>\n",
       "      <td>0.038998</td>\n",
       "    </tr>\n",
       "    <tr>\n",
       "      <th>3</th>\n",
       "      <td>nice</td>\n",
       "      <td>0.038946</td>\n",
       "    </tr>\n",
       "    <tr>\n",
       "      <th>35</th>\n",
       "      <td>bath</td>\n",
       "      <td>0.038869</td>\n",
       "    </tr>\n",
       "    <tr>\n",
       "      <th>20</th>\n",
       "      <td>also</td>\n",
       "      <td>0.035556</td>\n",
       "    </tr>\n",
       "    <tr>\n",
       "      <th>22</th>\n",
       "      <td>get</td>\n",
       "      <td>0.032491</td>\n",
       "    </tr>\n",
       "  </tbody>\n",
       "</table>\n",
       "</div>"
      ],
      "text/plain": [
       "         word       pmi\n",
       "33    parking  0.090239\n",
       "26       like  0.077783\n",
       "39     always  0.068915\n",
       "34  excellent  0.053946\n",
       "47     little  0.044878\n",
       "23   location  0.038998\n",
       "3        nice  0.038946\n",
       "35       bath  0.038869\n",
       "20       also  0.035556\n",
       "22        get  0.032491"
      ]
     },
     "execution_count": 52,
     "metadata": {},
     "output_type": "execute_result"
    }
   ],
   "source": [
    "pmiposlist.sort_values('pmi',ascending=0).head(10)"
   ]
  },
  {
   "cell_type": "code",
   "execution_count": 53,
   "metadata": {},
   "outputs": [
    {
     "data": {
      "text/html": [
       "<div>\n",
       "<style scoped>\n",
       "    .dataframe tbody tr th:only-of-type {\n",
       "        vertical-align: middle;\n",
       "    }\n",
       "\n",
       "    .dataframe tbody tr th {\n",
       "        vertical-align: top;\n",
       "    }\n",
       "\n",
       "    .dataframe thead th {\n",
       "        text-align: right;\n",
       "    }\n",
       "</style>\n",
       "<table border=\"1\" class=\"dataframe\">\n",
       "  <thead>\n",
       "    <tr style=\"text-align: right;\">\n",
       "      <th></th>\n",
       "      <th>word</th>\n",
       "      <th>pmi</th>\n",
       "    </tr>\n",
       "  </thead>\n",
       "  <tbody>\n",
       "    <tr>\n",
       "      <th>29</th>\n",
       "      <td>could</td>\n",
       "      <td>0.172663</td>\n",
       "    </tr>\n",
       "    <tr>\n",
       "      <th>31</th>\n",
       "      <td>back</td>\n",
       "      <td>0.126685</td>\n",
       "    </tr>\n",
       "    <tr>\n",
       "      <th>44</th>\n",
       "      <td>close</td>\n",
       "      <td>0.115577</td>\n",
       "    </tr>\n",
       "    <tr>\n",
       "      <th>16</th>\n",
       "      <td>time</td>\n",
       "      <td>0.091022</td>\n",
       "    </tr>\n",
       "    <tr>\n",
       "      <th>6</th>\n",
       "      <td>one</td>\n",
       "      <td>0.065852</td>\n",
       "    </tr>\n",
       "    <tr>\n",
       "      <th>5</th>\n",
       "      <td>breakfast</td>\n",
       "      <td>0.064106</td>\n",
       "    </tr>\n",
       "    <tr>\n",
       "      <th>27</th>\n",
       "      <td>beds</td>\n",
       "      <td>0.058977</td>\n",
       "    </tr>\n",
       "    <tr>\n",
       "      <th>15</th>\n",
       "      <td>desk</td>\n",
       "      <td>0.058366</td>\n",
       "    </tr>\n",
       "    <tr>\n",
       "      <th>17</th>\n",
       "      <td>front</td>\n",
       "      <td>0.057512</td>\n",
       "    </tr>\n",
       "    <tr>\n",
       "      <th>28</th>\n",
       "      <td>helpful</td>\n",
       "      <td>0.042395</td>\n",
       "    </tr>\n",
       "  </tbody>\n",
       "</table>\n",
       "</div>"
      ],
      "text/plain": [
       "         word       pmi\n",
       "29      could  0.172663\n",
       "31       back  0.126685\n",
       "44      close  0.115577\n",
       "16       time  0.091022\n",
       "6         one  0.065852\n",
       "5   breakfast  0.064106\n",
       "27       beds  0.058977\n",
       "15       desk  0.058366\n",
       "17      front  0.057512\n",
       "28    helpful  0.042395"
      ]
     },
     "execution_count": 53,
     "metadata": {},
     "output_type": "execute_result"
    }
   ],
   "source": [
    "pmineglist.sort_values('pmi',ascending=0).head(10)"
   ]
  },
  {
   "cell_type": "markdown",
   "metadata": {},
   "source": [
    "Top ranked results suggest that parking is very important. Also people who write excellent or like in reviews gives alot of information about the target. For negative we see that words like could and close give alot of information about a negative review imnplying maybe employees could have or the facilities were closed at time they were needed."
   ]
  },
  {
   "cell_type": "markdown",
   "metadata": {},
   "source": [
    "## Q4 (b)"
   ]
  },
  {
   "cell_type": "code",
   "execution_count": 54,
   "metadata": {},
   "outputs": [],
   "source": [
    "phrase_top50, phrase_top50_data = newDataFrameTransformation(reviewsDF_copy, k=50)"
   ]
  },
  {
   "cell_type": "code",
   "execution_count": 55,
   "metadata": {},
   "outputs": [
    {
     "name": "stderr",
     "output_type": "stream",
     "text": [
      "100%|██████████| 50/50 [00:00<00:00, 95.21it/s] \n"
     ]
    }
   ],
   "source": [
    "pmiposlist_phrase, pmineglist_phrase, pmidf_phrase = pmiForAllCal(phrase_top50_data,label_column='groundTruth',topk=phrase_top50)\n"
   ]
  },
  {
   "cell_type": "code",
   "execution_count": 56,
   "metadata": {
    "scrolled": true
   },
   "outputs": [
    {
     "data": {
      "text/plain": [
       "array([['hampton inn', 0.2532790654550711],\n",
       "       ['reason price', 0.2532790654550711],\n",
       "       ['good locat', 0.2532790654550711],\n",
       "       ['custom servic', 0.2532790654550711],\n",
       "       ['next morn', 0.2532790654550711],\n",
       "       ['second floor', 0.2532790654550711],\n",
       "       ['distanc fork', 0.2532790654550711],\n",
       "       ['good place', 0.2532790654550709],\n",
       "       ['top floor', 0.2532790654550709],\n",
       "       ['great experi', 0.2532790654550709],\n",
       "       ['air condition', 0.2532790654550709],\n",
       "       ['mani time', 0.2532790654550709],\n",
       "       ['last year', 0.2532790654550709],\n",
       "       ['first time', 0.11974767283054837],\n",
       "       ['hot tub', 0.11974767283054837],\n",
       "       ['continent breakfast', 0.11974767283054837],\n",
       "       ['great place', 0.08622498079190483],\n",
       "       ['winnipeg airport', 0.07095750866111654],\n",
       "       ['ed fort garri', 0.07095750866111654],\n",
       "       ['next trip', 0.07095750866111654],\n",
       "       ['next door', 0.07095750866111654],\n",
       "       ['queen bed', 0.05260836999291995],\n",
       "       ['fort garri', 0.05260836999291995],\n",
       "       ['good food', 0.03013551414086116],\n",
       "       ['great servic', 0.03013551414086116],\n",
       "       ['free breakfast', 0.03013551414086116],\n",
       "       ['free wifi', 0.001964637174164816],\n",
       "       ['ed night', 0.001964637174164816],\n",
       "       ['pool area', -0.03440300699670972],\n",
       "       ['previou review', -0.03440300699670984],\n",
       "       ['next time', -0.03440300699670984],\n",
       "       ['ive ed', -0.03440300699670984],\n",
       "       ['good valu', -0.03440300699670984],\n",
       "       ['front desk', -0.06762865462503033],\n",
       "       ['comfort bed', -0.10339587848366145],\n",
       "       ['next day', -0.10339587848366145],\n",
       "       ['front desk clerk', -0.15218604265309338],\n",
       "       ['close airport', -0.15218604265309338],\n",
       "       ['good thing', -0.15218604265309338],\n",
       "       ['coffe maker', -0.15218604265309352],\n",
       "       ['great locat', -0.2391974196427232],\n",
       "       ['desk clerk', -0.25754655831091977],\n",
       "       ['famili member', -0.25754655831091977],\n",
       "       ['nice place', -0.25754655831091977],\n",
       "       ['small pool', -0.25754655831091977],\n",
       "       ['park lot', -0.30633672248035176],\n",
       "       ['sever time', -0.334507599447048],\n",
       "       ['food restaur', -0.4398681151048744],\n",
       "       ['long time', -0.4398681151048744],\n",
       "       ['minut walk', -0.4398681151048744]], dtype=object)"
      ]
     },
     "execution_count": 56,
     "metadata": {},
     "output_type": "execute_result"
    }
   ],
   "source": [
    "pmiposlist_phrase.sort_values('pmi',ascending=0).values"
   ]
  },
  {
   "cell_type": "code",
   "execution_count": 57,
   "metadata": {
    "scrolled": true
   },
   "outputs": [
    {
     "data": {
      "text/plain": [
       "array([['minut walk', 0.8040842237083388],\n",
       "       ['long time', 0.8040842237083388],\n",
       "       ['food restaur', 0.8040842237083388],\n",
       "       ['sever time', 0.6863011880519552],\n",
       "       ['park lot', 0.6499335438810805],\n",
       "       ['small pool', 0.5809406723941287],\n",
       "       ['famili member', 0.5809406723941287],\n",
       "       ['desk clerk', 0.5809406723941287],\n",
       "       ['nice place', 0.5809406723941287],\n",
       "       ['great locat', 0.5527697954274325],\n",
       "       ['good thing', 0.3986191156001743],\n",
       "       ['coffe maker', 0.3986191156001743],\n",
       "       ['front desk clerk', 0.3986191156001743],\n",
       "       ['close airport', 0.3986191156001743],\n",
       "       ['next day', 0.2932585999423479],\n",
       "       ['comfort bed', 0.2932585999423479],\n",
       "       ['front desk', 0.20446310115921684],\n",
       "       ['good valu', 0.11093704314839342],\n",
       "       ['ive ed', 0.11093704314839342],\n",
       "       ['previou review', 0.11093704314839342],\n",
       "       ['next time', 0.11093704314839342],\n",
       "       ['pool area', 0.11093704314839342],\n",
       "       ['free wifi', -0.006845992507990114],\n",
       "       ['ed night', -0.006845992507990114],\n",
       "       ['great servic', -0.11220650816581658],\n",
       "       ['good food', -0.11220650816581658],\n",
       "       ['free breakfast', -0.11220650816581658],\n",
       "       ['fort garri', -0.20751668797014133],\n",
       "       ['queen bed', -0.20751668797014133],\n",
       "       ['next door', -0.294528064959771],\n",
       "       ['winnipeg airport', -0.294528064959771],\n",
       "       ['ed fort garri', -0.294528064959771],\n",
       "       ['next trip', -0.294528064959771],\n",
       "       ['great place', -0.37457077263330757],\n",
       "       ['first time', -0.5822101374115519],\n",
       "       ['continent breakfast', -0.5822101374115519],\n",
       "       ['hot tub', -0.5822101374115519],\n",
       "       ['good place', -1.6848303678497674],\n",
       "       ['air condition', -1.6848303678497674],\n",
       "       ['last year', -1.6848303678497674],\n",
       "       ['top floor', -1.6848303678497674],\n",
       "       ['reason price', -1.8701732117970038],\n",
       "       ['distanc fork', -1.8701732117970038],\n",
       "       ['hampton inn', -1.8701732117970038],\n",
       "       ['next morn', -1.8701732117970038],\n",
       "       ['second floor', -1.8701732117970038],\n",
       "       ['good locat', -2.0264763788308104],\n",
       "       ['custom servic', -2.0264763788308104],\n",
       "       ['great experi', -2.3870141624693977],\n",
       "       ['mani time', -2.5708339141710823]], dtype=object)"
      ]
     },
     "execution_count": 57,
     "metadata": {},
     "output_type": "execute_result"
    }
   ],
   "source": [
    "pmineglist_phrase.sort_values('pmi',ascending=0).values"
   ]
  },
  {
   "cell_type": "markdown",
   "metadata": {},
   "source": [
    "Offered more detailed information that single words, important factors for good reviews included friendly staff, great expereinced, nice touch and important factor for negative reviews included the room rate. \n",
    "\n",
    "They are opposite of each other which makes sense...however the negative don't have too many negative feelings...stopwords could have remove these and as mentioned before great time could have been did not have great time."
   ]
  },
  {
   "cell_type": "markdown",
   "metadata": {},
   "source": [
    "## Q5 (a)"
   ]
  },
  {
   "cell_type": "markdown",
   "metadata": {},
   "source": [
    "(a)"
   ]
  },
  {
   "cell_type": "code",
   "execution_count": 58,
   "metadata": {},
   "outputs": [
    {
     "data": {
      "text/html": [
       "<div>\n",
       "<style scoped>\n",
       "    .dataframe tbody tr th:only-of-type {\n",
       "        vertical-align: middle;\n",
       "    }\n",
       "\n",
       "    .dataframe tbody tr th {\n",
       "        vertical-align: top;\n",
       "    }\n",
       "\n",
       "    .dataframe thead th {\n",
       "        text-align: right;\n",
       "    }\n",
       "</style>\n",
       "<table border=\"1\" class=\"dataframe\">\n",
       "  <thead>\n",
       "    <tr style=\"text-align: right;\">\n",
       "      <th></th>\n",
       "      <th>hotel_name</th>\n",
       "      <th>review</th>\n",
       "      <th>rating</th>\n",
       "      <th>groundTruth</th>\n",
       "      <th>vader</th>\n",
       "    </tr>\n",
       "  </thead>\n",
       "  <tbody>\n",
       "    <tr>\n",
       "      <th>0</th>\n",
       "      <td>Lakeview Hecla Resort</td>\n",
       "      <td>love golf resort disappoint great picturesque ...</td>\n",
       "      <td>4</td>\n",
       "      <td>1</td>\n",
       "      <td>0.9866</td>\n",
       "    </tr>\n",
       "    <tr>\n",
       "      <th>1</th>\n",
       "      <td>Lakeview Hecla Resort</td>\n",
       "      <td>ed one night play package price reasonable gol...</td>\n",
       "      <td>4</td>\n",
       "      <td>1</td>\n",
       "      <td>0.9665</td>\n",
       "    </tr>\n",
       "    <tr>\n",
       "      <th>2</th>\n",
       "      <td>Lakeview Hecla Resort</td>\n",
       "      <td>called day checked maintenance look ac working...</td>\n",
       "      <td>2</td>\n",
       "      <td>0</td>\n",
       "      <td>-0.2296</td>\n",
       "    </tr>\n",
       "    <tr>\n",
       "      <th>3</th>\n",
       "      <td>Lakeview Hecla Resort</td>\n",
       "      <td>first visit lakeview resort beautiful resort s...</td>\n",
       "      <td>4</td>\n",
       "      <td>1</td>\n",
       "      <td>0.9779</td>\n",
       "    </tr>\n",
       "    <tr>\n",
       "      <th>4</th>\n",
       "      <td>Lakeview Hecla Resort</td>\n",
       "      <td>great place like outdoor winter activities lik...</td>\n",
       "      <td>5</td>\n",
       "      <td>1</td>\n",
       "      <td>0.9643</td>\n",
       "    </tr>\n",
       "  </tbody>\n",
       "</table>\n",
       "</div>"
      ],
      "text/plain": [
       "              hotel_name                                             review  \\\n",
       "0  Lakeview Hecla Resort  love golf resort disappoint great picturesque ...   \n",
       "1  Lakeview Hecla Resort  ed one night play package price reasonable gol...   \n",
       "2  Lakeview Hecla Resort  called day checked maintenance look ac working...   \n",
       "3  Lakeview Hecla Resort  first visit lakeview resort beautiful resort s...   \n",
       "4  Lakeview Hecla Resort  great place like outdoor winter activities lik...   \n",
       "\n",
       "   rating  groundTruth   vader  \n",
       "0       4            1  0.9866  \n",
       "1       4            1  0.9665  \n",
       "2       2            0 -0.2296  \n",
       "3       4            1  0.9779  \n",
       "4       5            1  0.9643  "
      ]
     },
     "execution_count": 58,
     "metadata": {},
     "output_type": "execute_result"
    }
   ],
   "source": [
    "reviewsDF_copy.head()"
   ]
  },
  {
   "cell_type": "code",
   "execution_count": 59,
   "metadata": {
    "scrolled": true
   },
   "outputs": [
    {
     "data": {
      "text/plain": [
       "Text(0.5, 1.0, 'Histogram of Vader Sentiment Score')"
      ]
     },
     "execution_count": 59,
     "metadata": {},
     "output_type": "execute_result"
    },
    {
     "data": {
      "image/png": "[encoded data removed]",
      "text/plain": [
       "<Figure size 864x288 with 2 Axes>"
      ]
     },
     "metadata": {
      "needs_background": "light"
     },
     "output_type": "display_data"
    }
   ],
   "source": [
    "fig,ax = plt.subplots(figsize=(12,4))\n",
    "\n",
    "plt.subplot(1,2,1)\n",
    "reviewsDF_copy.rating.hist()\n",
    "plt.xlabel('rating score')\n",
    "plt.ylabel('frequency')\n",
    "plt.title('Histogram of Ground Truth', fontweight='bold', pad=20)\n",
    "\n",
    "plt.subplot(1,2,2)\n",
    "reviewsDF_copy.vader.hist()\n",
    "plt.xlabel('vader score')\n",
    "plt.ylabel('frequency')\n",
    "plt.title('Histogram of Vader Sentiment Score', fontweight='bold', pad=20)"
   ]
  },
  {
   "cell_type": "markdown",
   "metadata": {},
   "source": [
    "Both the ground truth and vader distributions look similar in that they are skewed towards the positive meaning that conducting analysis on the words used in the reviews is a good indicator on if it is a positive or negative review."
   ]
  },
  {
   "cell_type": "markdown",
   "metadata": {},
   "source": [
    "(b)"
   ]
  },
  {
   "cell_type": "code",
   "execution_count": 163,
   "metadata": {},
   "outputs": [
    {
     "data": {
      "text/plain": [
       "Text(0.5, 1.0, 'Histogram of Reviews per Hotel')"
      ]
     },
     "execution_count": 163,
     "metadata": {},
     "output_type": "execute_result"
    },
    {
     "data": {
      "image/png": "[encoded data removed]",
      "text/plain": [
       "<Figure size 432x288 with 1 Axes>"
      ]
     },
     "metadata": {
      "needs_background": "light"
     },
     "output_type": "display_data"
    }
   ],
   "source": [
    "reviewsDF_copy.groupby('hotel_name').count()['review'].hist()\n",
    "plt.xlabel('Number of reviews')\n",
    "plt.ylabel('Number of Hotels')\n",
    "plt.title('Histogram of Reviews per Hotel', fontweight='bold', pad=20)"
   ]
  },
  {
   "cell_type": "markdown",
   "metadata": {},
   "source": [
    "Most hotels have only been reviewed about 1-25 times. Some smaller hotels might not have as many guests as bigger chains. i.e motels etc."
   ]
  },
  {
   "cell_type": "markdown",
   "metadata": {},
   "source": [
    "## Q5 (b)"
   ]
  },
  {
   "cell_type": "code",
   "execution_count": 83,
   "metadata": {},
   "outputs": [],
   "source": [
    "hotels_top5review = reviewsDF_copy.groupby('hotel_name').count()['review'].sort_values(ascending=False)[:5].index.tolist()\n",
    "hotelReview_top5DF = reviewsDF[reviewsDF['hotel_name'].isin(hotels_top5review)]"
   ]
  },
  {
   "cell_type": "code",
   "execution_count": 89,
   "metadata": {},
   "outputs": [
    {
     "data": {
      "text/html": [
       "<div>\n",
       "<style scoped>\n",
       "    .dataframe tbody tr th:only-of-type {\n",
       "        vertical-align: middle;\n",
       "    }\n",
       "\n",
       "    .dataframe tbody tr th {\n",
       "        vertical-align: top;\n",
       "    }\n",
       "\n",
       "    .dataframe thead th {\n",
       "        text-align: right;\n",
       "    }\n",
       "</style>\n",
       "<table border=\"1\" class=\"dataframe\">\n",
       "  <thead>\n",
       "    <tr style=\"text-align: right;\">\n",
       "      <th></th>\n",
       "      <th>hotel_name</th>\n",
       "      <th>review</th>\n",
       "      <th>rating</th>\n",
       "      <th>groundTruth</th>\n",
       "      <th>vader</th>\n",
       "    </tr>\n",
       "  </thead>\n",
       "  <tbody>\n",
       "    <tr>\n",
       "      <th>416</th>\n",
       "      <td>Fort Garry Hotel</td>\n",
       "      <td>I stayed at the Fort Garry on May 23rd and 24t...</td>\n",
       "      <td>4</td>\n",
       "      <td>1</td>\n",
       "      <td>0.9962</td>\n",
       "    </tr>\n",
       "    <tr>\n",
       "      <th>417</th>\n",
       "      <td>Fort Garry Hotel</td>\n",
       "      <td>My partner and I stayed at the hotel for a wed...</td>\n",
       "      <td>3</td>\n",
       "      <td>0</td>\n",
       "      <td>0.9025</td>\n",
       "    </tr>\n",
       "    <tr>\n",
       "      <th>418</th>\n",
       "      <td>Fort Garry Hotel</td>\n",
       "      <td>My wife and I just stayed at the classic Fort ...</td>\n",
       "      <td>5</td>\n",
       "      <td>1</td>\n",
       "      <td>0.9698</td>\n",
       "    </tr>\n",
       "    <tr>\n",
       "      <th>419</th>\n",
       "      <td>Fort Garry Hotel</td>\n",
       "      <td>We spent a weekend at the Fort Garry to celebr...</td>\n",
       "      <td>5</td>\n",
       "      <td>1</td>\n",
       "      <td>0.9335</td>\n",
       "    </tr>\n",
       "    <tr>\n",
       "      <th>420</th>\n",
       "      <td>Fort Garry Hotel</td>\n",
       "      <td>Fort Garry Hotel in Winnipeg had everything we...</td>\n",
       "      <td>4</td>\n",
       "      <td>1</td>\n",
       "      <td>0.4421</td>\n",
       "    </tr>\n",
       "  </tbody>\n",
       "</table>\n",
       "</div>"
      ],
      "text/plain": [
       "           hotel_name                                             review  \\\n",
       "416  Fort Garry Hotel  I stayed at the Fort Garry on May 23rd and 24t...   \n",
       "417  Fort Garry Hotel  My partner and I stayed at the hotel for a wed...   \n",
       "418  Fort Garry Hotel  My wife and I just stayed at the classic Fort ...   \n",
       "419  Fort Garry Hotel  We spent a weekend at the Fort Garry to celebr...   \n",
       "420  Fort Garry Hotel  Fort Garry Hotel in Winnipeg had everything we...   \n",
       "\n",
       "     rating  groundTruth   vader  \n",
       "416       4            1  0.9962  \n",
       "417       3            0  0.9025  \n",
       "418       5            1  0.9698  \n",
       "419       5            1  0.9335  \n",
       "420       4            1  0.4421  "
      ]
     },
     "execution_count": 89,
     "metadata": {},
     "output_type": "execute_result"
    }
   ],
   "source": [
    "hotelReview_top5DF.head()"
   ]
  },
  {
   "cell_type": "code",
   "execution_count": 164,
   "metadata": {},
   "outputs": [
    {
     "data": {
      "text/plain": [
       "Text(0, 0.5, 'Rating')"
      ]
     },
     "execution_count": 164,
     "metadata": {},
     "output_type": "execute_result"
    },
    {
     "data": {
      "image/png": "[encoded data removed]",
      "text/plain": [
       "<Figure size 864x432 with 1 Axes>"
      ]
     },
     "metadata": {
      "needs_background": "light"
     },
     "output_type": "display_data"
    }
   ],
   "source": [
    "plt.subplots(figsize=(12,6))\n",
    "sns.boxplot(x='hotel_name', y='rating', data=hotelReview_top5DF)\n",
    "plt.xticks(rotation=-45)\n",
    "plt.title('Boxplot of the Ratings of the Top 5 Most Reviewed Hotels', fontweight='bold', pad=20)\n",
    "plt.xlabel('Hotel')\n",
    "plt.ylabel('Rating')"
   ]
  },
  {
   "cell_type": "code",
   "execution_count": 165,
   "metadata": {},
   "outputs": [
    {
     "data": {
      "text/plain": [
       "Text(0, 0.5, 'Vader Score')"
      ]
     },
     "execution_count": 165,
     "metadata": {},
     "output_type": "execute_result"
    },
    {
     "data": {
      "image/png": "[encoded data removed]",
      "text/plain": [
       "<Figure size 864x432 with 1 Axes>"
      ]
     },
     "metadata": {
      "needs_background": "light"
     },
     "output_type": "display_data"
    }
   ],
   "source": [
    "plt.subplots(figsize=(12,6))\n",
    "sns.boxplot(x='hotel_name', y='vader', data=hotelReview_top5DF)\n",
    "plt.xticks(rotation=-45)\n",
    "plt.title('Boxplot of the Vader Scores of the Top 5 Most Reviewed Hotels', fontweight='bold', pad=20)\n",
    "plt.xlabel('Hotel')\n",
    "plt.ylabel('Vader Score')"
   ]
  },
  {
   "cell_type": "code",
   "execution_count": 99,
   "metadata": {},
   "outputs": [
    {
     "data": {
      "text/html": [
       "<div>\n",
       "<style scoped>\n",
       "    .dataframe tbody tr th:only-of-type {\n",
       "        vertical-align: middle;\n",
       "    }\n",
       "\n",
       "    .dataframe tbody tr th {\n",
       "        vertical-align: top;\n",
       "    }\n",
       "\n",
       "    .dataframe thead th {\n",
       "        text-align: right;\n",
       "    }\n",
       "</style>\n",
       "<table border=\"1\" class=\"dataframe\">\n",
       "  <thead>\n",
       "    <tr style=\"text-align: right;\">\n",
       "      <th></th>\n",
       "      <th>rating</th>\n",
       "      <th>vader</th>\n",
       "    </tr>\n",
       "    <tr>\n",
       "      <th>hotel_name</th>\n",
       "      <th></th>\n",
       "      <th></th>\n",
       "    </tr>\n",
       "  </thead>\n",
       "  <tbody>\n",
       "    <tr>\n",
       "      <th>Fort Garry Hotel</th>\n",
       "      <td>4.255319</td>\n",
       "      <td>0.813382</td>\n",
       "    </tr>\n",
       "    <tr>\n",
       "      <th>Four Points by Sheraton Winnipeg International Airport</th>\n",
       "      <td>4.091954</td>\n",
       "      <td>0.767161</td>\n",
       "    </tr>\n",
       "    <tr>\n",
       "      <th>Hampton Inn by Hilton Winnipeg Airport\\/Polo Park</th>\n",
       "      <td>4.680412</td>\n",
       "      <td>0.860827</td>\n",
       "    </tr>\n",
       "    <tr>\n",
       "      <th>Inn at the Forks</th>\n",
       "      <td>4.360902</td>\n",
       "      <td>0.831691</td>\n",
       "    </tr>\n",
       "    <tr>\n",
       "      <th>Mere Hotel</th>\n",
       "      <td>4.455556</td>\n",
       "      <td>0.864884</td>\n",
       "    </tr>\n",
       "  </tbody>\n",
       "</table>\n",
       "</div>"
      ],
      "text/plain": [
       "                                                      rating     vader\n",
       "hotel_name                                                            \n",
       "Fort Garry Hotel                                    4.255319  0.813382\n",
       "Four Points by Sheraton Winnipeg International ...  4.091954  0.767161\n",
       "Hampton Inn by Hilton Winnipeg Airport\\/Polo Park   4.680412  0.860827\n",
       "Inn at the Forks                                    4.360902  0.831691\n",
       "Mere Hotel                                          4.455556  0.864884"
      ]
     },
     "execution_count": 99,
     "metadata": {},
     "output_type": "execute_result"
    }
   ],
   "source": [
    "hotelReview_top5DF.groupby('hotel_name').mean()[['rating','vader']]"
   ]
  },
  {
   "cell_type": "code",
   "execution_count": 100,
   "metadata": {},
   "outputs": [
    {
     "data": {
      "text/html": [
       "<div>\n",
       "<style scoped>\n",
       "    .dataframe tbody tr th:only-of-type {\n",
       "        vertical-align: middle;\n",
       "    }\n",
       "\n",
       "    .dataframe tbody tr th {\n",
       "        vertical-align: top;\n",
       "    }\n",
       "\n",
       "    .dataframe thead th {\n",
       "        text-align: right;\n",
       "    }\n",
       "</style>\n",
       "<table border=\"1\" class=\"dataframe\">\n",
       "  <thead>\n",
       "    <tr style=\"text-align: right;\">\n",
       "      <th></th>\n",
       "      <th>rating</th>\n",
       "      <th>vader</th>\n",
       "    </tr>\n",
       "    <tr>\n",
       "      <th>hotel_name</th>\n",
       "      <th></th>\n",
       "      <th></th>\n",
       "    </tr>\n",
       "  </thead>\n",
       "  <tbody>\n",
       "    <tr>\n",
       "      <th>Fort Garry Hotel</th>\n",
       "      <td>0.969439</td>\n",
       "      <td>0.430254</td>\n",
       "    </tr>\n",
       "    <tr>\n",
       "      <th>Four Points by Sheraton Winnipeg International Airport</th>\n",
       "      <td>0.756863</td>\n",
       "      <td>0.424765</td>\n",
       "    </tr>\n",
       "    <tr>\n",
       "      <th>Hampton Inn by Hilton Winnipeg Airport\\/Polo Park</th>\n",
       "      <td>0.511256</td>\n",
       "      <td>0.267234</td>\n",
       "    </tr>\n",
       "    <tr>\n",
       "      <th>Inn at the Forks</th>\n",
       "      <td>0.907363</td>\n",
       "      <td>0.363267</td>\n",
       "    </tr>\n",
       "    <tr>\n",
       "      <th>Mere Hotel</th>\n",
       "      <td>0.766740</td>\n",
       "      <td>0.209373</td>\n",
       "    </tr>\n",
       "  </tbody>\n",
       "</table>\n",
       "</div>"
      ],
      "text/plain": [
       "                                                      rating     vader\n",
       "hotel_name                                                            \n",
       "Fort Garry Hotel                                    0.969439  0.430254\n",
       "Four Points by Sheraton Winnipeg International ...  0.756863  0.424765\n",
       "Hampton Inn by Hilton Winnipeg Airport\\/Polo Park   0.511256  0.267234\n",
       "Inn at the Forks                                    0.907363  0.363267\n",
       "Mere Hotel                                          0.766740  0.209373"
      ]
     },
     "execution_count": 100,
     "metadata": {},
     "output_type": "execute_result"
    }
   ],
   "source": [
    "hotelReview_top5DF.groupby('hotel_name').std()[['rating','vader']]"
   ]
  },
  {
   "cell_type": "markdown",
   "metadata": {},
   "source": [
    "The box plots are more informative as it gives a better represenation of how the data is distributed. The mean and variance are a nice addition to compare close means/whiskers numerically. "
   ]
  },
  {
   "cell_type": "markdown",
   "metadata": {},
   "source": [
    "## Q5 (c)"
   ]
  },
  {
   "cell_type": "markdown",
   "metadata": {},
   "source": [
    "(a)"
   ]
  },
  {
   "cell_type": "code",
   "execution_count": 166,
   "metadata": {
    "scrolled": false
   },
   "outputs": [
    {
     "data": {
      "text/plain": [
       "Text(0, 0.5, 'Vader Score')"
      ]
     },
     "execution_count": 166,
     "metadata": {},
     "output_type": "execute_result"
    },
    {
     "data": {
      "image/png": "[encoded data removed]",
      "text/plain": [
       "<Figure size 432x288 with 1 Axes>"
      ]
     },
     "metadata": {
      "needs_background": "light"
     },
     "output_type": "display_data"
    }
   ],
   "source": [
    "plt.figure(figsize=(6,4))\n",
    "sns.scatterplot(x='rating', y='vader', data=reviewsDF_copy)\n",
    "plt.title('Scatter Plot of Vader Score vs Rating', fontweight='bold', pad=20)\n",
    "plt.xlabel('Rating')\n",
    "plt.ylabel('Vader Score')"
   ]
  },
  {
   "cell_type": "code",
   "execution_count": 119,
   "metadata": {},
   "outputs": [],
   "source": [
    "x = reviewsDF_copy['rating'].values\n",
    "y = reviewsDF_copy['vader'].values"
   ]
  },
  {
   "cell_type": "code",
   "execution_count": 120,
   "metadata": {},
   "outputs": [],
   "source": [
    "from scipy.stats.kde import gaussian_kde\n",
    "\n",
    "k = gaussian_kde(np.vstack([x, y]))\n",
    "xi, yi = np.mgrid[x.min():x.max():x.size**0.5*1j,y.min():y.max():y.size**0.5*1j]\n",
    "zi = k(np.vstack([xi.flatten(), yi.flatten()]))"
   ]
  },
  {
   "cell_type": "code",
   "execution_count": 167,
   "metadata": {
    "scrolled": true
   },
   "outputs": [
    {
     "data": {
      "text/plain": [
       "Text(0.5, 0, 'Rating')"
      ]
     },
     "execution_count": 167,
     "metadata": {},
     "output_type": "execute_result"
    },
    {
     "data": {
      "image/png": "[encoded data removed]",
      "text/plain": [
       "<Figure size 432x576 with 1 Axes>"
      ]
     },
     "metadata": {
      "needs_background": "light"
     },
     "output_type": "display_data"
    }
   ],
   "source": [
    "cmap = sns.cubehelix_palette(light=1, as_cmap=True)\n",
    "fig = plt.figure(figsize=(6,8))\n",
    "ax1 = fig.add_subplot(211)\n",
    "\n",
    "ax1.pcolormesh(xi, yi, np.log10(zi.reshape(xi.shape)), cmap=cmap)\n",
    "\n",
    "ax1.set_xlim(x.min(), x.max())\n",
    "ax1.set_ylim(y.min(), y.max())\n",
    "plt.title('Heatmap of Vader Score vs Rating', fontweight='bold', pad=20)\n",
    "ax1.set_ylabel('Vader Score')\n",
    "ax1.set_xlabel('Rating')"
   ]
  },
  {
   "cell_type": "markdown",
   "metadata": {},
   "source": [
    "This tells us that sentiment score and rating are highly correlated at ratings 4-5 with vader scores .8 to 1."
   ]
  },
  {
   "cell_type": "markdown",
   "metadata": {},
   "source": [
    "(b)"
   ]
  },
  {
   "cell_type": "code",
   "execution_count": 122,
   "metadata": {},
   "outputs": [],
   "source": [
    "reviewsDF['review_len'] = reviewsDF['review'].apply(lambda x: len(x.split()))"
   ]
  },
  {
   "cell_type": "code",
   "execution_count": 126,
   "metadata": {},
   "outputs": [],
   "source": [
    "yr = reviewsDF['rating'].values\n",
    "x = reviewsDF['review_len'].values\n",
    "\n",
    "kr = gaussian_kde(np.vstack([x, yr]))\n",
    "xi, yir = np.mgrid[x.min():x.max():x.size**0.5*1j,yr.min():yr.max():yr.size**0.5*1j]\n",
    "zir = kr(np.vstack([xi.flatten(), yir.flatten()]))"
   ]
  },
  {
   "cell_type": "code",
   "execution_count": 151,
   "metadata": {
    "scrolled": false
   },
   "outputs": [
    {
     "data": {
      "text/plain": [
       "Text(0, 0.5, 'Rating')"
      ]
     },
     "execution_count": 151,
     "metadata": {},
     "output_type": "execute_result"
    },
    {
     "data": {
      "image/png": "[encoded data removed]",
      "text/plain": [
       "<Figure size 1080x432 with 2 Axes>"
      ]
     },
     "metadata": {
      "needs_background": "light"
     },
     "output_type": "display_data"
    }
   ],
   "source": [
    "fig,ax = plt.subplots(figsize=(15,6))\n",
    "plt.suptitle('Scatter Plot (left) and Heatmap (right) of Rating vs Review Length', fontweight='bold')\n",
    "plt.subplot(121)\n",
    "sns.scatterplot(x,yr)\n",
    "plt.xlabel('Review Length')\n",
    "plt.ylabel('Rating')\n",
    "\n",
    "plt.subplot(122)\n",
    "plt.pcolormesh(xi, yir, np.log10(zir.reshape(xi.shape)), cmap=cmap)\n",
    "plt.xlim(x.min(), x.max())\n",
    "plt.ylim(yr.min(), yr.max())\n",
    "plt.xlabel('Review Length')\n",
    "plt.ylabel('Rating')"
   ]
  },
  {
   "cell_type": "code",
   "execution_count": 138,
   "metadata": {},
   "outputs": [],
   "source": [
    "yv = reviewsDF['vader'].values\n",
    "x = reviewsDF['review_len'].values\n",
    "\n",
    "kv = gaussian_kde(np.vstack([x, yv]))\n",
    "xi, yiv = np.mgrid[x.min():x.max():x.size**0.5*1j,yv.min():yv.max():yv.size**0.5*1j]\n",
    "ziv = kv(np.vstack([xi.flatten(), yiv.flatten()]))"
   ]
  },
  {
   "cell_type": "code",
   "execution_count": 152,
   "metadata": {},
   "outputs": [
    {
     "data": {
      "text/plain": [
       "Text(0, 0.5, 'Vader Score')"
      ]
     },
     "execution_count": 152,
     "metadata": {},
     "output_type": "execute_result"
    },
    {
     "data": {
      "image/png": "[encoded data removed]",
      "text/plain": [
       "<Figure size 1080x432 with 2 Axes>"
      ]
     },
     "metadata": {
      "needs_background": "light"
     },
     "output_type": "display_data"
    }
   ],
   "source": [
    "fig,ax = plt.subplots(figsize=(15,6))\n",
    "plt.suptitle('Scatter Plot (left) and Heatmap (right) of Vader Score vs Review Length', fontweight='bold')\n",
    "plt.subplot(121)\n",
    "sns.scatterplot(x,yv)\n",
    "plt.xlabel('Review Length')\n",
    "plt.ylabel('Vader Score')\n",
    "\n",
    "plt.subplot(122)\n",
    "plt.pcolormesh(xi, yiv, np.log10(ziv.reshape(xi.shape)), cmap=cmap)\n",
    "plt.xlim(x.min(), x.max())\n",
    "plt.ylim(yv.min(), yv.max())\n",
    "plt.xlabel('Review Length')\n",
    "plt.ylabel('Vader Score')"
   ]
  },
  {
   "cell_type": "markdown",
   "metadata": {},
   "source": [
    "The scatter and heatmaps indicate that review length is typically longer for both very positive and very negative review with neutral reviews having the lower word length on average. Postive reviews tended to have slightly longer word counts that negative."
   ]
  },
  {
   "cell_type": "markdown",
   "metadata": {},
   "source": [
    "(c)"
   ]
  },
  {
   "cell_type": "code",
   "execution_count": 160,
   "metadata": {},
   "outputs": [],
   "source": [
    "review_count = reviewsDF_copy.groupby('hotel_name').count()['review'].tolist()"
   ]
  },
  {
   "cell_type": "code",
   "execution_count": 161,
   "metadata": {},
   "outputs": [],
   "source": [
    "avg_rating = reviewsDF_copy.groupby('hotel_name').mean()['rating'].tolist()\n",
    "avg_vader = reviewsDF_copy.groupby('hotel_name').mean()['vader'].tolist()"
   ]
  },
  {
   "cell_type": "code",
   "execution_count": 162,
   "metadata": {},
   "outputs": [
    {
     "data": {
      "text/plain": [
       "Text(0, 0.5, 'Vader Score')"
      ]
     },
     "execution_count": 162,
     "metadata": {},
     "output_type": "execute_result"
    },
    {
     "data": {
      "image/png": "[encoded data removed]",
      "text/plain": [
       "<Figure size 1080x432 with 2 Axes>"
      ]
     },
     "metadata": {
      "needs_background": "light"
     },
     "output_type": "display_data"
    }
   ],
   "source": [
    "fig,ax = plt.subplots(figsize=(15,6))\n",
    "plt.suptitle('Scatter Plots of Number of Reviews vs Rating (left) vs Vader Score (right)', fontweight='bold')\n",
    "plt.subplot(121)\n",
    "sns.scatterplot(review_count,avg_rating)\n",
    "plt.xlabel('# of Reviews')\n",
    "plt.ylabel('Rating')\n",
    "\n",
    "plt.subplot(122)\n",
    "sns.scatterplot(review_count,avg_vader)\n",
    "plt.xlabel('# of Reviews')\n",
    "plt.ylabel('Vader Score')"
   ]
  },
  {
   "cell_type": "markdown",
   "metadata": {},
   "source": [
    "Hotels with more reviews tend to have higher ratings and sentiment scores."
   ]
  }
 ],
 "metadata": {
  "kernelspec": {
   "display_name": "Python 3",
   "language": "python",
   "name": "python3"
  },
  "language_info": {
   "codemirror_mode": {
    "name": "ipython",
    "version": 3
   },
   "file_extension": ".py",
   "mimetype": "text/x-python",
   "name": "python",
   "nbconvert_exporter": "python",
   "pygments_lexer": "ipython3",
   "version": "3.6.5"
  }
 },
 "nbformat": 4,
 "nbformat_minor": 2
}
