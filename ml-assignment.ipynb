{
 "cells": [
  {
   "cell_type": "code",
   "execution_count": 1,
   "metadata": {},
   "outputs": [],
   "source": [
    "import os\n",
    "import re\n",
    "from pathlib import Path\n",
    "\n",
    "import nltk\n",
    "from nltk.tokenize import RegexpTokenizer\n",
    "from nltk.stem import *\n",
    "from nltk.corpus import stopwords\n",
    "\n",
    "from collections import Counter\n",
    "import pandas as pd\n",
    "from sklearn.linear_model import LogisticRegression\n",
    "from sklearn.naive_bayes import GaussianNB, BernoulliNB, MultinomialNB\n",
    "from sklearn.model_selection import train_test_split\n",
    "from sklearn.metrics import accuracy_score, confusion_matrix\n",
    "from sklearn.exceptions import ConvergenceWarning\n",
    "from sklearn.feature_selection import mutual_info_classif\n",
    "\n",
    "import numpy as np\n",
    "from scipy import stats\n",
    "import matplotlib\n",
    "import matplotlib.pyplot as plt\n",
    "%matplotlib inline  \n",
    "import random\n",
    "random.seed()\n",
    "import warnings\n",
    "warnings.filterwarnings(\"ignore\", category=FutureWarning)\n",
    "warnings.filterwarnings(\"ignore\", category=ConvergenceWarning)"
   ]
  },
  {
   "cell_type": "code",
   "execution_count": 2,
   "metadata": {},
   "outputs": [],
   "source": [
    "DATA_DIR = \"20_newsgroups\""
   ]
  },
  {
   "cell_type": "markdown",
   "metadata": {},
   "source": [
    "## Functions from lab"
   ]
  },
  {
   "cell_type": "code",
   "execution_count": 3,
   "metadata": {},
   "outputs": [],
   "source": [
    "def clean_file_text(text):\n",
    "    new_text = re.sub(\"Newsgroups:.*?\\n\", \"\", text)\n",
    "    new_text = re.sub(\"Xref:.*?\\n\", \"\", new_text)\n",
    "    new_text = re.sub(\"Path:.*?\\n\", \"\", new_text)\n",
    "    new_text = re.sub(\"Date:.*?\\n\", \"\", new_text)\n",
    "    new_text = re.sub(\"Followup-To:.*?\\n\", \"\", new_text)\n",
    "    return new_text"
   ]
  },
  {
   "cell_type": "code",
   "execution_count": 4,
   "metadata": {},
   "outputs": [],
   "source": [
    "def corpus_count_words(file_list):\n",
    "    tokenizer = RegexpTokenizer(r'\\w+')\n",
    "    word_counter = Counter()\n",
    "    for file_path in file_list:\n",
    "        with open(file_path, 'r', encoding='utf-8', errors='ignore') as file:\n",
    "            file_data = file.read()\n",
    "            file_data = clean_file_text(file_data)\n",
    "            file_words = tokenizer.tokenize(file_data)\n",
    "            word_counter.update(file_words)\n",
    "    return word_counter"
   ]
  },
  {
   "cell_type": "code",
   "execution_count": 5,
   "metadata": {},
   "outputs": [],
   "source": [
    "def get_topic_name(file_path):\n",
    "    return file_path.parent.name\n",
    "\n",
    "def get_target(topic_name):\n",
    "    topics = ['talk.politics.mideast', 'rec.autos', 'comp.sys.mac.hardware', 'alt.atheism', 'rec.sport.baseball', \n",
    "     'comp.os.ms-windows.misc', 'rec.sport.hockey', 'sci.crypt', 'sci.med', 'talk.politics.misc', \n",
    "     'rec.motorcycles', 'comp.windows.x', 'comp.graphics', 'comp.sys.ibm.pc.hardware', 'sci.electronics',\n",
    "     'talk.politics.guns', 'sci.space', 'soc.religion.christian', 'misc.forsale', 'talk.religion.misc']\n",
    "    return topics.index(topic_name)"
   ]
  },
  {
   "cell_type": "code",
   "execution_count": 6,
   "metadata": {},
   "outputs": [],
   "source": [
    "def plot_confusion_matrix(cm):\n",
    "    # plot the confusion matrix\n",
    "    plt.figure(figsize=(10,10))\n",
    "    plt.matshow(cm, fignum=1)\n",
    "    \n",
    "    # add labels for all targets\n",
    "    num_targets = cm.shape[0]\n",
    "    plt.xticks(list(range(num_targets+1)))\n",
    "    plt.yticks(list(range(num_targets+1)))"
   ]
  },
  {
   "cell_type": "markdown",
   "metadata": {},
   "source": [
    "## Q1"
   ]
  },
  {
   "cell_type": "code",
   "execution_count": 7,
   "metadata": {},
   "outputs": [],
   "source": [
    "all_files = [pth for pth in Path(DATA_DIR).glob(\"**/*\") if pth.is_file() and not pth.name.startswith(\".\")]"
   ]
  },
  {
   "cell_type": "code",
   "execution_count": 8,
   "metadata": {},
   "outputs": [],
   "source": [
    "def binary_baseline_data(file_list, num_words = 1000):\n",
    "    # Calculate word count in corpus\n",
    "    news_cnt = corpus_count_words(file_list)\n",
    "    \n",
    "    # Select the most common numWords\n",
    "    word_list = [word for (word, freq) in news_cnt.most_common(num_words)]\n",
    "    \n",
    "    # Create a binary encoding of dataset based on the selected features (X)\n",
    "    tokenizer = RegexpTokenizer(r'\\w+')\n",
    "    df_rows = []\n",
    "    for file_path in file_list:\n",
    "        with open(file_path, 'r', encoding='utf-8', errors='ignore') as file:\n",
    "            file_data = file.read()\n",
    "            file_data = clean_file_text(file_data)\n",
    "            file_words = tokenizer.tokenize(file_data)\n",
    "            df_rows.append([1 if word in file_words else 0 for word in word_list])      \n",
    "    X = pd.DataFrame(df_rows, columns = word_list)\n",
    "    \n",
    "    # Create a dataframe of targets (y)\n",
    "    y = [get_target(get_topic_name(file_path)) for file_path in file_list]\n",
    "    \n",
    "    return X, y"
   ]
  },
  {
   "cell_type": "code",
   "execution_count": 9,
   "metadata": {},
   "outputs": [
    {
     "name": "stdout",
     "output_type": "stream",
     "text": [
      "Train accuracy: 0.9146245624062299\n",
      "Test accuracy: 0.6845\n"
     ]
    }
   ],
   "source": [
    "# get the baseline data\n",
    "X, y = binary_baseline_data(all_files)\n",
    "\n",
    "# split to train and test set\n",
    "X_train, X_test, y_train, y_test = train_test_split(X, y, test_size=0.3, random_state=42)\n",
    "\n",
    "# train a logistic regression classifier\n",
    "clf = LogisticRegression(C=1.0).fit(X_train, y_train)\n",
    "\n",
    "# predict on train and test set\n",
    "y_train_predict = clf.predict(X_train)\n",
    "y_test_predict = clf.predict(X_test)\n",
    "\n",
    "# calculate train and test accuracy\n",
    "train_accuracy = accuracy_score(y_train, y_train_predict)\n",
    "test_accuracy = accuracy_score(y_test, y_test_predict)\n",
    "\n",
    "# report results\n",
    "print(\"Train accuracy: {}\".format(train_accuracy))\n",
    "print(\"Test accuracy: {}\".format(test_accuracy))"
   ]
  },
  {
   "cell_type": "markdown",
   "metadata": {},
   "source": [
    "### Q1 (a)\n",
    "\n",
    "[The feature set being used in this part is the top 1000 most common words in terms of frequency. If a certain file (row in the dataframe) contains the word, the corresponding binary value would be 1, and 0 otherwise. This dataset contains 19997 data samples (the total number of files). The hyper parameter is the regularizaton which is set to be 1,0, which is used to avoid overfitting.]"
   ]
  },
  {
   "cell_type": "markdown",
   "metadata": {},
   "source": [
    "### Q1 (b)\n",
    "\n",
    "Modify the following function:"
   ]
  },
  {
   "cell_type": "code",
   "execution_count": 10,
   "metadata": {},
   "outputs": [
    {
     "name": "stderr",
     "output_type": "stream",
     "text": [
      "[nltk_data] Downloading package wordnet to /Users/rong/nltk_data...\n",
      "[nltk_data]   Package wordnet is already up-to-date!\n",
      "[nltk_data] Downloading package stopwords to /Users/rong/nltk_data...\n",
      "[nltk_data]   Package stopwords is already up-to-date!\n"
     ]
    },
    {
     "data": {
      "text/plain": [
       "True"
      ]
     },
     "execution_count": 10,
     "metadata": {},
     "output_type": "execute_result"
    }
   ],
   "source": [
    "# download required resources\n",
    "nltk.download(\"wordnet\")\n",
    "nltk.download(\"stopwords\")"
   ]
  },
  {
   "cell_type": "markdown",
   "metadata": {},
   "source": [
    "Modify the corpus count function such to remove the stopwords such that the top 1000 words would be more meaningful."
   ]
  },
  {
   "cell_type": "code",
   "execution_count": 11,
   "metadata": {},
   "outputs": [],
   "source": [
    "def corpus_count_words_improved(file_list):\n",
    "    tokenizer = RegexpTokenizer(r'\\w+')\n",
    "    word_counter = Counter()\n",
    "    lemmatizer = WordNetLemmatizer() # lemmatization\n",
    "    sw = stopwords.words('english') # list of stop words\n",
    "    for file_path in file_list:\n",
    "        with open(file_path, 'r', encoding='utf-8', errors='ignore') as file:\n",
    "            file_data = file.read()\n",
    "            file_data = clean_file_text(file_data)\n",
    "            \n",
    "            # lemmatize the file content before tokenization\n",
    "            tokens = tokenizer.tokenize(lemmatizer.lemmatize(file_data))\n",
    "            # remove stopwords from the tokens\n",
    "            file_words = [word.lower() for word in tokens if word.lower() not in sw if len(word)>1 if word.isalpha()]\n",
    "            \n",
    "            word_counter.update(file_words)\n",
    "    return word_counter"
   ]
  },
  {
   "cell_type": "code",
   "execution_count": 47,
   "metadata": {},
   "outputs": [],
   "source": [
    "def binary_improved_data(file_list, num_words = 1000):\n",
    "    # Calculate word count in corpus\n",
    "    news_cnt = corpus_count_words_improved(file_list)\n",
    "    \n",
    "    # Select the most common numWords\n",
    "    word_list = [word for (word, freq) in news_cnt.most_common(2*num_words)]\n",
    "    \n",
    "    # Create a binary encoding of dataset based on the selected features (X)\n",
    "    tokenizer = RegexpTokenizer(r'\\w+')\n",
    "    lemmatizer = WordNetLemmatizer() # add a lemmatizer to the text\n",
    "    sw = stopwords.words('english') # list of stop words\n",
    "    \n",
    "    df_rows = []\n",
    "    for file_path in file_list:\n",
    "        with open(file_path, 'r', encoding='utf-8', errors='ignore') as file:\n",
    "            file_data = file.read()\n",
    "            file_data = clean_file_text(file_data)\n",
    "            \n",
    "            # lemmatization before tokenization\n",
    "            tokens = tokenizer.tokenize(lemmatizer.lemmatize(file_data))\n",
    "            # remove stopwords, one letter tokens and numbers from tokens\n",
    "            file_words = [word.lower() for word in tokens if word.lower() not in sw if len(word)>1 if word.isalpha()]\n",
    "            \n",
    "            df_rows.append([1 if word in file_words else 0 for word in word_list])      \n",
    "    X = pd.DataFrame(df_rows, columns = word_list)\n",
    "    X = X[X.columns[X.mean() < 0.05]].iloc[:,0:num_words]\n",
    "    \n",
    "    # Create a dataframe of targets (y)\n",
    "    y = [get_target(get_topic_name(file_path)) for file_path in file_list]\n",
    "    \n",
    "    # validate return types\n",
    "    assert isinstance(X, pd.DataFrame) and isinstance(y, list), \"return types\"\n",
    "    \n",
    "    return X, y"
   ]
  },
  {
   "cell_type": "markdown",
   "metadata": {},
   "source": [
    "### Q1 (c)\n",
    "\n",
    "Modify the following partial code to calculate the train and test accuracy and answer the question in the markdown cell below"
   ]
  },
  {
   "cell_type": "code",
   "execution_count": 48,
   "metadata": {},
   "outputs": [
    {
     "name": "stdout",
     "output_type": "stream",
     "text": [
      "Train accuracy: 0.9101950417946703\n",
      "Test accuracy: 0.7465\n"
     ]
    }
   ],
   "source": [
    "# get the baseline data\n",
    "X, y = binary_improved_data(all_files)\n",
    "\n",
    "# Write your code here:\n",
    "# You need to split the data and train a logistic regression classifier.\n",
    "# Then, you need to calculate the variables train_accuracy and test_accuracy for the new classifier\n",
    "\n",
    "X_train, X_test, y_train, y_test = train_test_split(X, y, test_size=0.3, random_state=42)\n",
    "\n",
    "clf = LogisticRegression(C=1.0).fit(X_train, y_train)\n",
    "\n",
    "# predict on train and test set\n",
    "y_train_predict = clf.predict(X_train)\n",
    "y_test_predict = clf.predict(X_test)\n",
    "\n",
    "train_accuracy = accuracy_score(y_train, y_train_predict)\n",
    "test_accuracy = accuracy_score(y_test, y_test_predict)\n",
    "\n",
    "\n",
    "# report results\n",
    "print(\"Train accuracy: {}\".format(train_accuracy))\n",
    "print(\"Test accuracy: {}\".format(test_accuracy))"
   ]
  },
  {
   "cell_type": "markdown",
   "metadata": {},
   "source": [
    "[From the results above, we could obviously see that an improvment has achieved in prediction due to the increase in the accuracy score in both the train and test sets. This is due to the text processing of lemmatization and stopwords removal such that more meaningful words are being considered. Also, tokens with only one letter or a number are also removed since intuitively such tokens give less information to the classification problem.]"
   ]
  },
  {
   "cell_type": "markdown",
   "metadata": {},
   "source": [
    "### Q1 (d)\n",
    "\n",
    "Modify the partial code below"
   ]
  },
  {
   "cell_type": "code",
   "execution_count": 23,
   "metadata": {},
   "outputs": [],
   "source": [
    "def random_mean_ci(X, y, num_tests):\n",
    "    # train_results is a list of train accuracy results for the differrent random splits of the dataset\n",
    "    train_results = []\n",
    "    \n",
    "    # test_results is a list of test accuracy results for the differrent random splits of the dataset\n",
    "    test_results = []\n",
    "    \n",
    "    # Write your code here\n",
    "    for i in range(num_tests):\n",
    "        \n",
    "        X_train, X_test, y_train, y_test = train_test_split(X, y, test_size=0.3, random_state=random.randint(1,1000))\n",
    "        \n",
    "        clf = LogisticRegression(C=1.0).fit(X_train, y_train)\n",
    "\n",
    "        # predict on train and test set\n",
    "        y_train_predict = clf.predict(X_train)\n",
    "        y_test_predict = clf.predict(X_test)\n",
    "\n",
    "        train_accuracy = accuracy_score(y_train, y_train_predict)\n",
    "        test_accuracy = accuracy_score(y_test, y_test_predict)\n",
    "        \n",
    "        train_results.append(train_accuracy)\n",
    "        test_results.append(test_accuracy)\n",
    "    \n",
    "    # calculate the train mean and the 95% confidence interval for the list of results\n",
    "    train_mean = np.mean(train_results)\n",
    "    train_ci_low, train_ci_high = stats.t.interval(0.95, len(train_results)-1, loc=train_mean, scale=stats.sem(train_results))\n",
    "    \n",
    "    # calculate the test mean and the 95% confidence interval for the list of results\n",
    "    test_mean = np.mean(test_results)\n",
    "    test_ci_low, test_ci_high = stats.t.interval(0.95, len(test_results)-1, loc=test_mean, scale=stats.sem(test_results))\n",
    "    \n",
    "    # validate return types\n",
    "    assert isinstance(train_mean, float) and isinstance(train_ci_low, float) and isinstance(train_ci_high, float), \"return types\"\n",
    "    assert isinstance(test_mean, float) and isinstance(test_ci_low, float) and isinstance(test_ci_high, float), \"return types\"\n",
    "    \n",
    "    return train_mean, train_ci_low, train_ci_high, test_mean, test_ci_low, test_ci_high"
   ]
  },
  {
   "cell_type": "markdown",
   "metadata": {},
   "source": [
    "### Q1 (e)\n",
    "\n",
    "Use the following code to calculate the mean accuracy and 95% confidence interval over 10 random splits"
   ]
  },
  {
   "cell_type": "code",
   "execution_count": 24,
   "metadata": {},
   "outputs": [
    {
     "name": "stdout",
     "output_type": "stream",
     "text": [
      "Train mean accuracy over 10 random splits: 0.9188683289276274\n",
      "Train confidence interval over 10 random splits: [0.9177400390985191, 0.9199966187567357]\n",
      "Test mean accuracy over 10 random splits: 0.7489833333333333\n",
      "Test confidence interval over 10 random splits: [0.7460271818875758, 0.7519394847790909]\n"
     ]
    }
   ],
   "source": [
    "train_mean10, train_low10, train_high10, test_mean10, test_low10, test_high10 = random_mean_ci(X, y, num_tests = 10)\n",
    "print(\"Train mean accuracy over 10 random splits: {}\".format(train_mean10))\n",
    "print(\"Train confidence interval over 10 random splits: [{}, {}]\".format(train_low10, train_high10))\n",
    "print(\"Test mean accuracy over 10 random splits: {}\".format(test_mean10))\n",
    "print(\"Test confidence interval over 10 random splits: [{}, {}]\".format(test_low10, test_high10))"
   ]
  },
  {
   "cell_type": "markdown",
   "metadata": {},
   "source": [
    "[We know from the confidence intervals that the perfomances of the model have small deviations or variances with different splits. This is much more imformative than a single trial as it gives us an idea of the variance of performance when classifiy small batches which is what real life would look like in production.]"
   ]
  },
  {
   "cell_type": "markdown",
   "metadata": {},
   "source": [
    "### Q1 (f)\n",
    "\n",
    "Modify the partial code below"
   ]
  },
  {
   "cell_type": "code",
   "execution_count": 25,
   "metadata": {},
   "outputs": [],
   "source": [
    "def random_cm(X, y, num_tests):\n",
    "    # cm_list is a list of confusion matrices for the different random splits of the dataset\n",
    "    cm_list = []\n",
    "    \n",
    "    # Write your code here\n",
    "    for i in range(0,num_tests):\n",
    "\n",
    "        X_train, X_test, y_train, y_test = train_test_split(X, y, test_size=0.3, random_state=random.randint(1,1000))\n",
    "        clf = LogisticRegression(C=1.0).fit(X_train, y_train)\n",
    "        y_test_predict = clf.predict(X_test)\n",
    "        cm = confusion_matrix(y_test, y_test_predict)\n",
    "        cm_list.append(cm)\n",
    "    \n",
    "    # sum the confusion matrices and return the combined confusion matrix\n",
    "    combined_cm = pd.Panel(cm_list).sum(axis=0)\n",
    "    \n",
    "    # validate return type\n",
    "    assert isinstance(combined_cm, pd.DataFrame), \"return type\"\n",
    "    \n",
    "    return combined_cm"
   ]
  },
  {
   "cell_type": "markdown",
   "metadata": {},
   "source": [
    "### Q1 (g)\n",
    "\n",
    "Use the following code to produce a confusion matrix for 10 random splits"
   ]
  },
  {
   "cell_type": "code",
   "execution_count": 26,
   "metadata": {},
   "outputs": [
    {
     "data": {
      "image/png": "[encoded data removed]",
      "text/plain": [
       "<Figure size 720x720 with 1 Axes>"
      ]
     },
     "metadata": {
      "needs_background": "light"
     },
     "output_type": "display_data"
    }
   ],
   "source": [
    "cm10 = random_cm(X, y, num_tests = 10)\n",
    "plot_confusion_matrix(cm10)"
   ]
  },
  {
   "cell_type": "code",
   "execution_count": 27,
   "metadata": {
    "scrolled": false
   },
   "outputs": [
    {
     "data": {
      "text/html": [
       "<div>\n",
       "<style scoped>\n",
       "    .dataframe tbody tr th:only-of-type {\n",
       "        vertical-align: middle;\n",
       "    }\n",
       "\n",
       "    .dataframe tbody tr th {\n",
       "        vertical-align: top;\n",
       "    }\n",
       "\n",
       "    .dataframe thead th {\n",
       "        text-align: right;\n",
       "    }\n",
       "</style>\n",
       "<table border=\"1\" class=\"dataframe\">\n",
       "  <thead>\n",
       "    <tr style=\"text-align: right;\">\n",
       "      <th></th>\n",
       "      <th>0</th>\n",
       "      <th>1</th>\n",
       "      <th>2</th>\n",
       "      <th>3</th>\n",
       "      <th>4</th>\n",
       "      <th>5</th>\n",
       "      <th>6</th>\n",
       "      <th>7</th>\n",
       "      <th>8</th>\n",
       "      <th>9</th>\n",
       "      <th>10</th>\n",
       "      <th>11</th>\n",
       "      <th>12</th>\n",
       "      <th>13</th>\n",
       "      <th>14</th>\n",
       "      <th>15</th>\n",
       "      <th>16</th>\n",
       "      <th>17</th>\n",
       "      <th>18</th>\n",
       "      <th>19</th>\n",
       "    </tr>\n",
       "  </thead>\n",
       "  <tbody>\n",
       "    <tr>\n",
       "      <th>0</th>\n",
       "      <td>2623</td>\n",
       "      <td>19</td>\n",
       "      <td>15</td>\n",
       "      <td>34</td>\n",
       "      <td>16</td>\n",
       "      <td>1</td>\n",
       "      <td>12</td>\n",
       "      <td>12</td>\n",
       "      <td>26</td>\n",
       "      <td>118</td>\n",
       "      <td>1</td>\n",
       "      <td>1</td>\n",
       "      <td>9</td>\n",
       "      <td>7</td>\n",
       "      <td>27</td>\n",
       "      <td>16</td>\n",
       "      <td>14</td>\n",
       "      <td>0</td>\n",
       "      <td>2</td>\n",
       "      <td>32</td>\n",
       "    </tr>\n",
       "    <tr>\n",
       "      <th>1</th>\n",
       "      <td>6</td>\n",
       "      <td>2222</td>\n",
       "      <td>41</td>\n",
       "      <td>11</td>\n",
       "      <td>42</td>\n",
       "      <td>15</td>\n",
       "      <td>9</td>\n",
       "      <td>8</td>\n",
       "      <td>77</td>\n",
       "      <td>34</td>\n",
       "      <td>89</td>\n",
       "      <td>15</td>\n",
       "      <td>29</td>\n",
       "      <td>62</td>\n",
       "      <td>116</td>\n",
       "      <td>18</td>\n",
       "      <td>28</td>\n",
       "      <td>0</td>\n",
       "      <td>71</td>\n",
       "      <td>7</td>\n",
       "    </tr>\n",
       "    <tr>\n",
       "      <th>2</th>\n",
       "      <td>6</td>\n",
       "      <td>43</td>\n",
       "      <td>2166</td>\n",
       "      <td>5</td>\n",
       "      <td>30</td>\n",
       "      <td>54</td>\n",
       "      <td>10</td>\n",
       "      <td>19</td>\n",
       "      <td>45</td>\n",
       "      <td>9</td>\n",
       "      <td>19</td>\n",
       "      <td>54</td>\n",
       "      <td>92</td>\n",
       "      <td>224</td>\n",
       "      <td>156</td>\n",
       "      <td>10</td>\n",
       "      <td>24</td>\n",
       "      <td>0</td>\n",
       "      <td>81</td>\n",
       "      <td>10</td>\n",
       "    </tr>\n",
       "    <tr>\n",
       "      <th>3</th>\n",
       "      <td>31</td>\n",
       "      <td>15</td>\n",
       "      <td>6</td>\n",
       "      <td>2159</td>\n",
       "      <td>27</td>\n",
       "      <td>3</td>\n",
       "      <td>7</td>\n",
       "      <td>10</td>\n",
       "      <td>46</td>\n",
       "      <td>34</td>\n",
       "      <td>16</td>\n",
       "      <td>2</td>\n",
       "      <td>14</td>\n",
       "      <td>8</td>\n",
       "      <td>8</td>\n",
       "      <td>13</td>\n",
       "      <td>32</td>\n",
       "      <td>0</td>\n",
       "      <td>5</td>\n",
       "      <td>584</td>\n",
       "    </tr>\n",
       "    <tr>\n",
       "      <th>4</th>\n",
       "      <td>3</td>\n",
       "      <td>41</td>\n",
       "      <td>27</td>\n",
       "      <td>10</td>\n",
       "      <td>2415</td>\n",
       "      <td>10</td>\n",
       "      <td>201</td>\n",
       "      <td>9</td>\n",
       "      <td>47</td>\n",
       "      <td>25</td>\n",
       "      <td>17</td>\n",
       "      <td>15</td>\n",
       "      <td>29</td>\n",
       "      <td>21</td>\n",
       "      <td>41</td>\n",
       "      <td>12</td>\n",
       "      <td>24</td>\n",
       "      <td>0</td>\n",
       "      <td>34</td>\n",
       "      <td>16</td>\n",
       "    </tr>\n",
       "    <tr>\n",
       "      <th>5</th>\n",
       "      <td>0</td>\n",
       "      <td>14</td>\n",
       "      <td>58</td>\n",
       "      <td>9</td>\n",
       "      <td>13</td>\n",
       "      <td>2174</td>\n",
       "      <td>0</td>\n",
       "      <td>6</td>\n",
       "      <td>29</td>\n",
       "      <td>2</td>\n",
       "      <td>14</td>\n",
       "      <td>177</td>\n",
       "      <td>163</td>\n",
       "      <td>198</td>\n",
       "      <td>63</td>\n",
       "      <td>4</td>\n",
       "      <td>19</td>\n",
       "      <td>0</td>\n",
       "      <td>24</td>\n",
       "      <td>6</td>\n",
       "    </tr>\n",
       "    <tr>\n",
       "      <th>6</th>\n",
       "      <td>4</td>\n",
       "      <td>27</td>\n",
       "      <td>14</td>\n",
       "      <td>2</td>\n",
       "      <td>232</td>\n",
       "      <td>0</td>\n",
       "      <td>2460</td>\n",
       "      <td>2</td>\n",
       "      <td>26</td>\n",
       "      <td>12</td>\n",
       "      <td>13</td>\n",
       "      <td>9</td>\n",
       "      <td>11</td>\n",
       "      <td>17</td>\n",
       "      <td>19</td>\n",
       "      <td>16</td>\n",
       "      <td>26</td>\n",
       "      <td>0</td>\n",
       "      <td>16</td>\n",
       "      <td>13</td>\n",
       "    </tr>\n",
       "    <tr>\n",
       "      <th>7</th>\n",
       "      <td>2</td>\n",
       "      <td>9</td>\n",
       "      <td>17</td>\n",
       "      <td>8</td>\n",
       "      <td>11</td>\n",
       "      <td>11</td>\n",
       "      <td>1</td>\n",
       "      <td>2671</td>\n",
       "      <td>22</td>\n",
       "      <td>51</td>\n",
       "      <td>16</td>\n",
       "      <td>31</td>\n",
       "      <td>54</td>\n",
       "      <td>12</td>\n",
       "      <td>53</td>\n",
       "      <td>49</td>\n",
       "      <td>29</td>\n",
       "      <td>0</td>\n",
       "      <td>18</td>\n",
       "      <td>13</td>\n",
       "    </tr>\n",
       "    <tr>\n",
       "      <th>8</th>\n",
       "      <td>14</td>\n",
       "      <td>73</td>\n",
       "      <td>45</td>\n",
       "      <td>23</td>\n",
       "      <td>42</td>\n",
       "      <td>10</td>\n",
       "      <td>20</td>\n",
       "      <td>6</td>\n",
       "      <td>2264</td>\n",
       "      <td>59</td>\n",
       "      <td>30</td>\n",
       "      <td>30</td>\n",
       "      <td>78</td>\n",
       "      <td>33</td>\n",
       "      <td>110</td>\n",
       "      <td>19</td>\n",
       "      <td>45</td>\n",
       "      <td>0</td>\n",
       "      <td>25</td>\n",
       "      <td>38</td>\n",
       "    </tr>\n",
       "    <tr>\n",
       "      <th>9</th>\n",
       "      <td>173</td>\n",
       "      <td>36</td>\n",
       "      <td>14</td>\n",
       "      <td>35</td>\n",
       "      <td>24</td>\n",
       "      <td>9</td>\n",
       "      <td>8</td>\n",
       "      <td>24</td>\n",
       "      <td>96</td>\n",
       "      <td>1780</td>\n",
       "      <td>13</td>\n",
       "      <td>11</td>\n",
       "      <td>7</td>\n",
       "      <td>12</td>\n",
       "      <td>17</td>\n",
       "      <td>282</td>\n",
       "      <td>34</td>\n",
       "      <td>0</td>\n",
       "      <td>9</td>\n",
       "      <td>378</td>\n",
       "    </tr>\n",
       "    <tr>\n",
       "      <th>10</th>\n",
       "      <td>2</td>\n",
       "      <td>140</td>\n",
       "      <td>26</td>\n",
       "      <td>11</td>\n",
       "      <td>39</td>\n",
       "      <td>10</td>\n",
       "      <td>22</td>\n",
       "      <td>3</td>\n",
       "      <td>46</td>\n",
       "      <td>23</td>\n",
       "      <td>2469</td>\n",
       "      <td>17</td>\n",
       "      <td>26</td>\n",
       "      <td>32</td>\n",
       "      <td>78</td>\n",
       "      <td>28</td>\n",
       "      <td>13</td>\n",
       "      <td>0</td>\n",
       "      <td>54</td>\n",
       "      <td>7</td>\n",
       "    </tr>\n",
       "    <tr>\n",
       "      <th>11</th>\n",
       "      <td>10</td>\n",
       "      <td>35</td>\n",
       "      <td>54</td>\n",
       "      <td>6</td>\n",
       "      <td>10</td>\n",
       "      <td>148</td>\n",
       "      <td>13</td>\n",
       "      <td>16</td>\n",
       "      <td>53</td>\n",
       "      <td>6</td>\n",
       "      <td>10</td>\n",
       "      <td>2265</td>\n",
       "      <td>212</td>\n",
       "      <td>70</td>\n",
       "      <td>57</td>\n",
       "      <td>4</td>\n",
       "      <td>34</td>\n",
       "      <td>0</td>\n",
       "      <td>18</td>\n",
       "      <td>16</td>\n",
       "    </tr>\n",
       "    <tr>\n",
       "      <th>12</th>\n",
       "      <td>6</td>\n",
       "      <td>25</td>\n",
       "      <td>119</td>\n",
       "      <td>13</td>\n",
       "      <td>29</td>\n",
       "      <td>215</td>\n",
       "      <td>10</td>\n",
       "      <td>9</td>\n",
       "      <td>55</td>\n",
       "      <td>12</td>\n",
       "      <td>12</td>\n",
       "      <td>193</td>\n",
       "      <td>1972</td>\n",
       "      <td>111</td>\n",
       "      <td>131</td>\n",
       "      <td>6</td>\n",
       "      <td>57</td>\n",
       "      <td>0</td>\n",
       "      <td>56</td>\n",
       "      <td>20</td>\n",
       "    </tr>\n",
       "    <tr>\n",
       "      <th>13</th>\n",
       "      <td>6</td>\n",
       "      <td>43</td>\n",
       "      <td>218</td>\n",
       "      <td>9</td>\n",
       "      <td>18</td>\n",
       "      <td>295</td>\n",
       "      <td>14</td>\n",
       "      <td>22</td>\n",
       "      <td>55</td>\n",
       "      <td>13</td>\n",
       "      <td>19</td>\n",
       "      <td>74</td>\n",
       "      <td>157</td>\n",
       "      <td>1671</td>\n",
       "      <td>232</td>\n",
       "      <td>11</td>\n",
       "      <td>27</td>\n",
       "      <td>0</td>\n",
       "      <td>134</td>\n",
       "      <td>11</td>\n",
       "    </tr>\n",
       "    <tr>\n",
       "      <th>14</th>\n",
       "      <td>12</td>\n",
       "      <td>119</td>\n",
       "      <td>162</td>\n",
       "      <td>12</td>\n",
       "      <td>42</td>\n",
       "      <td>47</td>\n",
       "      <td>27</td>\n",
       "      <td>43</td>\n",
       "      <td>80</td>\n",
       "      <td>18</td>\n",
       "      <td>48</td>\n",
       "      <td>54</td>\n",
       "      <td>123</td>\n",
       "      <td>205</td>\n",
       "      <td>1813</td>\n",
       "      <td>17</td>\n",
       "      <td>87</td>\n",
       "      <td>1</td>\n",
       "      <td>107</td>\n",
       "      <td>12</td>\n",
       "    </tr>\n",
       "    <tr>\n",
       "      <th>15</th>\n",
       "      <td>19</td>\n",
       "      <td>30</td>\n",
       "      <td>16</td>\n",
       "      <td>14</td>\n",
       "      <td>20</td>\n",
       "      <td>11</td>\n",
       "      <td>13</td>\n",
       "      <td>36</td>\n",
       "      <td>39</td>\n",
       "      <td>206</td>\n",
       "      <td>20</td>\n",
       "      <td>15</td>\n",
       "      <td>8</td>\n",
       "      <td>9</td>\n",
       "      <td>16</td>\n",
       "      <td>2370</td>\n",
       "      <td>35</td>\n",
       "      <td>0</td>\n",
       "      <td>16</td>\n",
       "      <td>155</td>\n",
       "    </tr>\n",
       "    <tr>\n",
       "      <th>16</th>\n",
       "      <td>3</td>\n",
       "      <td>48</td>\n",
       "      <td>35</td>\n",
       "      <td>16</td>\n",
       "      <td>16</td>\n",
       "      <td>6</td>\n",
       "      <td>6</td>\n",
       "      <td>22</td>\n",
       "      <td>86</td>\n",
       "      <td>36</td>\n",
       "      <td>14</td>\n",
       "      <td>24</td>\n",
       "      <td>102</td>\n",
       "      <td>19</td>\n",
       "      <td>77</td>\n",
       "      <td>15</td>\n",
       "      <td>2425</td>\n",
       "      <td>0</td>\n",
       "      <td>19</td>\n",
       "      <td>27</td>\n",
       "    </tr>\n",
       "    <tr>\n",
       "      <th>17</th>\n",
       "      <td>2</td>\n",
       "      <td>0</td>\n",
       "      <td>0</td>\n",
       "      <td>0</td>\n",
       "      <td>0</td>\n",
       "      <td>0</td>\n",
       "      <td>0</td>\n",
       "      <td>0</td>\n",
       "      <td>0</td>\n",
       "      <td>0</td>\n",
       "      <td>0</td>\n",
       "      <td>0</td>\n",
       "      <td>2</td>\n",
       "      <td>0</td>\n",
       "      <td>0</td>\n",
       "      <td>0</td>\n",
       "      <td>0</td>\n",
       "      <td>2944</td>\n",
       "      <td>0</td>\n",
       "      <td>0</td>\n",
       "    </tr>\n",
       "    <tr>\n",
       "      <th>18</th>\n",
       "      <td>5</td>\n",
       "      <td>62</td>\n",
       "      <td>109</td>\n",
       "      <td>3</td>\n",
       "      <td>23</td>\n",
       "      <td>14</td>\n",
       "      <td>8</td>\n",
       "      <td>3</td>\n",
       "      <td>24</td>\n",
       "      <td>19</td>\n",
       "      <td>19</td>\n",
       "      <td>13</td>\n",
       "      <td>39</td>\n",
       "      <td>89</td>\n",
       "      <td>86</td>\n",
       "      <td>1</td>\n",
       "      <td>25</td>\n",
       "      <td>0</td>\n",
       "      <td>2409</td>\n",
       "      <td>9</td>\n",
       "    </tr>\n",
       "    <tr>\n",
       "      <th>19</th>\n",
       "      <td>45</td>\n",
       "      <td>19</td>\n",
       "      <td>5</td>\n",
       "      <td>668</td>\n",
       "      <td>14</td>\n",
       "      <td>6</td>\n",
       "      <td>14</td>\n",
       "      <td>8</td>\n",
       "      <td>77</td>\n",
       "      <td>354</td>\n",
       "      <td>3</td>\n",
       "      <td>14</td>\n",
       "      <td>12</td>\n",
       "      <td>3</td>\n",
       "      <td>33</td>\n",
       "      <td>165</td>\n",
       "      <td>19</td>\n",
       "      <td>4</td>\n",
       "      <td>3</td>\n",
       "      <td>1535</td>\n",
       "    </tr>\n",
       "  </tbody>\n",
       "</table>\n",
       "</div>"
      ],
      "text/plain": [
       "      0     1     2     3     4     5     6     7     8     9     10    11  \\\n",
       "0   2623    19    15    34    16     1    12    12    26   118     1     1   \n",
       "1      6  2222    41    11    42    15     9     8    77    34    89    15   \n",
       "2      6    43  2166     5    30    54    10    19    45     9    19    54   \n",
       "3     31    15     6  2159    27     3     7    10    46    34    16     2   \n",
       "4      3    41    27    10  2415    10   201     9    47    25    17    15   \n",
       "5      0    14    58     9    13  2174     0     6    29     2    14   177   \n",
       "6      4    27    14     2   232     0  2460     2    26    12    13     9   \n",
       "7      2     9    17     8    11    11     1  2671    22    51    16    31   \n",
       "8     14    73    45    23    42    10    20     6  2264    59    30    30   \n",
       "9    173    36    14    35    24     9     8    24    96  1780    13    11   \n",
       "10     2   140    26    11    39    10    22     3    46    23  2469    17   \n",
       "11    10    35    54     6    10   148    13    16    53     6    10  2265   \n",
       "12     6    25   119    13    29   215    10     9    55    12    12   193   \n",
       "13     6    43   218     9    18   295    14    22    55    13    19    74   \n",
       "14    12   119   162    12    42    47    27    43    80    18    48    54   \n",
       "15    19    30    16    14    20    11    13    36    39   206    20    15   \n",
       "16     3    48    35    16    16     6     6    22    86    36    14    24   \n",
       "17     2     0     0     0     0     0     0     0     0     0     0     0   \n",
       "18     5    62   109     3    23    14     8     3    24    19    19    13   \n",
       "19    45    19     5   668    14     6    14     8    77   354     3    14   \n",
       "\n",
       "      12    13    14    15    16    17    18    19  \n",
       "0      9     7    27    16    14     0     2    32  \n",
       "1     29    62   116    18    28     0    71     7  \n",
       "2     92   224   156    10    24     0    81    10  \n",
       "3     14     8     8    13    32     0     5   584  \n",
       "4     29    21    41    12    24     0    34    16  \n",
       "5    163   198    63     4    19     0    24     6  \n",
       "6     11    17    19    16    26     0    16    13  \n",
       "7     54    12    53    49    29     0    18    13  \n",
       "8     78    33   110    19    45     0    25    38  \n",
       "9      7    12    17   282    34     0     9   378  \n",
       "10    26    32    78    28    13     0    54     7  \n",
       "11   212    70    57     4    34     0    18    16  \n",
       "12  1972   111   131     6    57     0    56    20  \n",
       "13   157  1671   232    11    27     0   134    11  \n",
       "14   123   205  1813    17    87     1   107    12  \n",
       "15     8     9    16  2370    35     0    16   155  \n",
       "16   102    19    77    15  2425     0    19    27  \n",
       "17     2     0     0     0     0  2944     0     0  \n",
       "18    39    89    86     1    25     0  2409     9  \n",
       "19    12     3    33   165    19     4     3  1535  "
      ]
     },
     "execution_count": 27,
     "metadata": {},
     "output_type": "execute_result"
    }
   ],
   "source": [
    "pd.DataFrame(cm10)"
   ]
  },
  {
   "cell_type": "code",
   "execution_count": 28,
   "metadata": {},
   "outputs": [],
   "source": [
    "topics = ['talk.politics.mideast', 'rec.autos', 'comp.sys.mac.hardware', 'alt.atheism', 'rec.sport.baseball', \n",
    " 'comp.os.ms-windows.misc', 'rec.sport.hockey', 'sci.crypt', 'sci.med', 'talk.politics.misc', \n",
    " 'rec.motorcycles', 'comp.windows.x', 'comp.graphics', 'comp.sys.ibm.pc.hardware', 'sci.electronics',\n",
    " 'talk.politics.guns', 'sci.space', 'soc.religion.christian', 'misc.forsale', 'talk.religion.misc']"
   ]
  },
  {
   "cell_type": "code",
   "execution_count": 29,
   "metadata": {},
   "outputs": [],
   "source": [
    "confuses = [(topics[3],topics[19]),\n",
    "            (topics[9],topics[15]),\n",
    "            (topics[4],topics[6]),\n",
    "            (topics[5],topics[13])]"
   ]
  },
  {
   "cell_type": "code",
   "execution_count": 30,
   "metadata": {
    "scrolled": true
   },
   "outputs": [
    {
     "data": {
      "text/plain": [
       "[('alt.atheism', 'talk.religion.misc'),\n",
       " ('talk.politics.misc', 'talk.politics.guns'),\n",
       " ('rec.sport.baseball', 'rec.sport.hockey'),\n",
       " ('comp.os.ms-windows.misc', 'comp.sys.ibm.pc.hardware')]"
      ]
     },
     "execution_count": 30,
     "metadata": {},
     "output_type": "execute_result"
    }
   ],
   "source": [
    "confuses"
   ]
  },
  {
   "cell_type": "markdown",
   "metadata": {},
   "source": [
    "[The biggest confusion happened between topic 4 which is atheism and topic 20 which is religion, which makes sense since atheism is part of religion topics. Also, the model is confusing baseball with hockey since they are both team sports in North America. Subsets of guns and misc under politics topic are also confused since neither of them are obviously connected to politics.]"
   ]
  },
  {
   "cell_type": "markdown",
   "metadata": {},
   "source": [
    "## Q2"
   ]
  },
  {
   "cell_type": "markdown",
   "metadata": {},
   "source": [
    "### Q2 (a)\n",
    "\n",
    "Modify the partial code below"
   ]
  },
  {
   "cell_type": "code",
   "execution_count": 31,
   "metadata": {},
   "outputs": [],
   "source": [
    "def feature_num(X, y):\n",
    "    # result_list is a list of tuples (num_features, train_accuracy, test_accuracy)\n",
    "    # where numFeatures is the number of words used as features\n",
    "    result_list = []\n",
    "    \n",
    "    X_train, X_test, y_train, y_test = train_test_split(X, y, test_size=0.3, random_state=42)\n",
    "    \n",
    "    for p in [0.1, 0.2, 0.4, 0.6, 0.8, 1.0]:\n",
    "        subset_size = int(p*X.shape[1])\n",
    "        X_train_subset = X_train.iloc[:, 0:subset_size]\n",
    "        X_test_subset = X_test.iloc[:, 0:subset_size]\n",
    "        # Write your code here to calculate train_accuracy and test_accuracy for the current subset of features\n",
    "        # ......\n",
    "        clf = LogisticRegression(C=1.0).fit(X_train_subset, y_train)\n",
    "\n",
    "        y_train_predict = clf.predict(X_train_subset)\n",
    "        y_test_predict = clf.predict(X_test_subset)\n",
    "        \n",
    "        train_accuracy = accuracy_score(y_train, y_train_predict)\n",
    "        test_accuracy = accuracy_score(y_test, y_test_predict)\n",
    "\n",
    "        # add to result_list\n",
    "        result_list.append((p, train_accuracy, test_accuracy))\n",
    "        \n",
    "    # Make a dataframe of the results\n",
    "    result_df = pd.DataFrame(result_list, columns=[\"num_features\", \"train_accuracy\", \"test_accuracy\"])\n",
    "    \n",
    "    # validate return type\n",
    "    assert isinstance(result_df, pd.DataFrame), \"return type\"\n",
    "    \n",
    "    return result_df"
   ]
  },
  {
   "cell_type": "markdown",
   "metadata": {},
   "source": [
    "### Q2 (b)\n",
    "\n",
    "Use the following code to plot the train and test accuracy for the different feature sets sizes"
   ]
  },
  {
   "cell_type": "code",
   "execution_count": 32,
   "metadata": {},
   "outputs": [
    {
     "data": {
      "text/plain": [
       "<matplotlib.axes._subplots.AxesSubplot at 0x137272a90>"
      ]
     },
     "execution_count": 32,
     "metadata": {},
     "output_type": "execute_result"
    },
    {
     "data": {
      "image/png": "[encoded data removed]",
      "text/plain": [
       "<Figure size 432x288 with 1 Axes>"
      ]
     },
     "metadata": {
      "needs_background": "light"
     },
     "output_type": "display_data"
    }
   ],
   "source": [
    "feature_num_df = feature_num(X, y)\n",
    "feature_num_df.plot(x=\"num_features\", y=[\"train_accuracy\", \"test_accuracy\"])"
   ]
  },
  {
   "cell_type": "markdown",
   "metadata": {},
   "source": [
    "[From the plot above, we could see that the perfomance (accuracy score) of the LR model improved with the number of features increasing.]"
   ]
  },
  {
   "cell_type": "markdown",
   "metadata": {},
   "source": [
    "## Q3"
   ]
  },
  {
   "cell_type": "markdown",
   "metadata": {},
   "source": [
    "### Q3 (a)\n",
    "\n",
    "Modify the partial code below"
   ]
  },
  {
   "cell_type": "code",
   "execution_count": 33,
   "metadata": {},
   "outputs": [],
   "source": [
    "def hyperparameter(X, y):\n",
    "    # result_list is a list of tuples (num_features, train_accuracy, test_accuracy)\n",
    "    # where numFeatures is the number of words used as features\n",
    "    result_list = []\n",
    "    \n",
    "    X_train, X_test, y_train, y_test = train_test_split(X, y, test_size=0.3, random_state=42)\n",
    "    \n",
    "    for param in [0.001, 0.01, 0.1, 1, 10, 100, 1000]:\n",
    "        # Write your code here to calculate train_accuracy and test_accuracy for the current parameter value\n",
    "        # ......\n",
    "        clf = LogisticRegression(C=param).fit(X_train, y_train)\n",
    "\n",
    "        y_train_predict = clf.predict(X_train)\n",
    "        y_test_predict = clf.predict(X_test)\n",
    "        \n",
    "        train_accuracy = accuracy_score(y_train, y_train_predict)\n",
    "        test_accuracy = accuracy_score(y_test, y_test_predict)\n",
    "        \n",
    "        # add to result_list\n",
    "        result_list.append((param, train_accuracy, test_accuracy))\n",
    "        \n",
    "    # Make a dataframe of the results\n",
    "    result_df = pd.DataFrame(result_list, columns=[\"param\", \"train_accuracy\", \"test_accuracy\"])\n",
    "    \n",
    "    # validate return type\n",
    "    assert isinstance(result_df, pd.DataFrame), \"return type\"\n",
    "    \n",
    "    return result_df"
   ]
  },
  {
   "cell_type": "markdown",
   "metadata": {},
   "source": [
    "### Q3 (b)\n",
    "\n",
    "Use the following code to plot the train and test accuracy for the different the parameters"
   ]
  },
  {
   "cell_type": "code",
   "execution_count": 34,
   "metadata": {
    "scrolled": false
   },
   "outputs": [
    {
     "data": {
      "text/plain": [
       "<matplotlib.axes._subplots.AxesSubplot at 0x104a0c2b0>"
      ]
     },
     "execution_count": 34,
     "metadata": {},
     "output_type": "execute_result"
    },
    {
     "data": {
      "image/png": "[encoded data removed]",
      "text/plain": [
       "<Figure size 432x288 with 1 Axes>"
      ]
     },
     "metadata": {
      "needs_background": "light"
     },
     "output_type": "display_data"
    }
   ],
   "source": [
    "param_df = hyperparameter(X, y)\n",
    "param_df.plot(x=\"param\", y=[\"train_accuracy\", \"test_accuracy\"], logx=True)"
   ]
  },
  {
   "cell_type": "markdown",
   "metadata": {},
   "source": [
    "[From the plot above, we could see that the best performance on the test set happened with the hyperparameter C being 0.1. C<0.1 means not enough constraints on the model parameters resulting in underfitting, while adding to much constaint on the parameters (C>1) would lead to high vairance on the test set, implying overfitting.]"
   ]
  },
  {
   "cell_type": "markdown",
   "metadata": {},
   "source": [
    "## Q4"
   ]
  },
  {
   "cell_type": "markdown",
   "metadata": {},
   "source": [
    "### Q4 (a)\n",
    "\n",
    "Modify the partial code below"
   ]
  },
  {
   "cell_type": "code",
   "execution_count": 41,
   "metadata": {},
   "outputs": [],
   "source": [
    "def tf_improved_data(file_list, num_words = 1000):\n",
    "    # Put your code here\n",
    "    # Make sure you update the variable features and targets below\n",
    "    \n",
    "    # Calculate word count in corpus\n",
    "#     news_cnt = corpus_count_words_improved(file_list)\n",
    "    \n",
    "    # Select the most common numWords\n",
    "#     word_list = [word for (word, freq) in news_cnt.most_common(num_words)]\n",
    "    \n",
    "    # Create a binary encoding of dataset based on the selected features (X)\n",
    "    tokenizer = RegexpTokenizer(r'\\w+')\n",
    "    lemmatizer = WordNetLemmatizer() # add a lemmatizer to the text\n",
    "    sw = stopwords.words('english') # list of stop words\n",
    "    \n",
    "    df_rows = []\n",
    "    X_org,y = binary_improved_data(file_list, num_words = 1000)\n",
    "    col = X_org.columns.tolist()\n",
    "    \n",
    "    for file_path in file_list:\n",
    "        with open(file_path, 'r', encoding='utf-8', errors='ignore') as file:\n",
    "            file_data = file.read()\n",
    "            file_data = clean_file_text(file_data)\n",
    "            \n",
    "            # lemmatization before tokenization\n",
    "            tokens = tokenizer.tokenize(lemmatizer.lemmatize(file_data))\n",
    "            # remove stopwords, one letter tokens and numbers from tokens\n",
    "            file_words = [word.lower() for word in tokens if word.lower() not in sw if len(word)>1 if word.isalpha()]\n",
    "            \n",
    "            word_counter = Counter()\n",
    "            word_counter.update(file_words)\n",
    "            \n",
    "            df_rows.append([word_counter[word] if word in file_words else 0 for word in col])      \n",
    "    X = pd.DataFrame(df_rows, columns = col)\n",
    "    \n",
    "#     # Create a dataframe of targets (y)\n",
    "#     y = [get_target(get_topic_name(file_path)) for file_path in file_list]\n",
    "    \n",
    "\n",
    "    # validate return types\n",
    "    assert isinstance(X, pd.DataFrame) and isinstance(y, list), \"return types\"\n",
    "    \n",
    "    return X, y"
   ]
  },
  {
   "cell_type": "markdown",
   "metadata": {},
   "source": [
    "### Q4 (b)\n",
    "\n",
    "Use the following code to calculate the mean accuracy and 95% confidence interval over multiple random splits"
   ]
  },
  {
   "cell_type": "code",
   "execution_count": 42,
   "metadata": {},
   "outputs": [
    {
     "name": "stdout",
     "output_type": "stream",
     "text": [
      "Train mean accuracy over 10 random splits: 0.9237265128241766\n",
      "Train confidence interval over 10 random splits: [0.922644172957244, 0.9248088526911092]\n",
      "Test mean accuracy over 10 random splits: 0.7243333333333333\n",
      "Test confidence interval over 10 random splits: [0.7209709585801858, 0.7276957080864808]\n"
     ]
    }
   ],
   "source": [
    "X_tf, y_tf = tf_improved_data(all_files)\n",
    "train_mean10, train_low10, train_high10, test_mean10, test_low10, test_high10 = random_mean_ci(X_tf, y_tf, num_tests = 10)\n",
    "print(\"Train mean accuracy over 10 random splits: {}\".format(train_mean10))\n",
    "print(\"Train confidence interval over 10 random splits: [{}, {}]\".format(train_low10, train_high10))\n",
    "print(\"Test mean accuracy over 10 random splits: {}\".format(test_mean10))\n",
    "print(\"Test confidence interval over 10 random splits: [{}, {}]\".format(test_low10, test_high10))"
   ]
  },
  {
   "cell_type": "markdown",
   "metadata": {},
   "source": [
    "[By comparing the results of the binary feature model and the tf feature model, we found that the tf model has a better performance with higher accuracy. Term frequency is a stronger indicator of a certain class than simply the occurrance of the word.]"
   ]
  },
  {
   "cell_type": "markdown",
   "metadata": {},
   "source": [
    "## Q5"
   ]
  },
  {
   "cell_type": "markdown",
   "metadata": {},
   "source": [
    "### Q5 (a)\n",
    "\n",
    "Modify the partial code below"
   ]
  },
  {
   "cell_type": "code",
   "execution_count": 35,
   "metadata": {},
   "outputs": [],
   "source": [
    "def nb_random_mean_ci(X, y, num_tests):\n",
    "    # train_results is a list of train accuracy results for the differrent random splits of the dataset\n",
    "    train_results = []\n",
    "    \n",
    "    # test_results is a list of test accuracy results for the differrent random splits of the dataset\n",
    "    test_results = []\n",
    "    \n",
    "    # Write your code here\n",
    "    for i in range(0,num_tests):\n",
    "        \n",
    "        X_train, X_test, y_train, y_test = train_test_split(X, y, test_size=0.3, random_state=random.randint(1,1000))\n",
    "        \n",
    "        clf = MultinomialNB().fit(X_train, y_train)\n",
    "\n",
    "        # predict on train and test set\n",
    "        y_train_predict = clf.predict(X_train)\n",
    "        y_test_predict = clf.predict(X_test)\n",
    "\n",
    "        train_accuracy = accuracy_score(y_train, y_train_predict)\n",
    "        test_accuracy = accuracy_score(y_test, y_test_predict)\n",
    "        \n",
    "        train_results.append(train_accuracy)\n",
    "        test_results.append(test_accuracy)\n",
    "        \n",
    "    # calculate the train mean and the 95% confidence interval for the list of results\n",
    "    train_mean = np.mean(train_results)\n",
    "    train_ci_low, train_ci_high = stats.t.interval(0.95, len(train_results)-1, loc=train_mean, scale=stats.sem(train_results))\n",
    "    \n",
    "    # calculate the test mean and the 95% confidence interval for the list of results\n",
    "    test_mean = np.mean(test_results)\n",
    "    test_ci_low, test_ci_high = stats.t.interval(0.95, len(test_results)-1, loc=test_mean, scale=stats.sem(test_results))\n",
    "    \n",
    "    # validate return types\n",
    "    assert isinstance(train_mean, float) and isinstance(train_ci_low, float) and isinstance(train_ci_high, float), \"return types\"\n",
    "    assert isinstance(test_mean, float) and isinstance(test_ci_low, float) and isinstance(test_ci_high, float), \"return types\"\n",
    "    \n",
    "    return train_mean, train_ci_low, train_ci_high, test_mean, test_ci_low, test_ci_high"
   ]
  },
  {
   "cell_type": "markdown",
   "metadata": {},
   "source": [
    "### Q5 (b)\n",
    "\n",
    "Use the following code to calculate the mean accuracy and 95% confidence interval over multiple random splits"
   ]
  },
  {
   "cell_type": "code",
   "execution_count": 36,
   "metadata": {},
   "outputs": [
    {
     "name": "stdout",
     "output_type": "stream",
     "text": [
      "Train mean accuracy over 10 random splits: 0.7926484246624277\n",
      "Train confidence interval over 10 random splits: [0.7914002457082709, 0.7938966036165844]\n",
      "Test mean accuracy over 10 random splits: 0.7411833333333333\n",
      "Test confidence interval over 10 random splits: [0.7393070623547199, 0.7430596043119467]\n"
     ]
    }
   ],
   "source": [
    "train_mean10, train_low10, train_high10, test_mean10, test_low10, test_high10 = nb_random_mean_ci(X, y, num_tests = 10)\n",
    "print(\"Train mean accuracy over 10 random splits: {}\".format(train_mean10))\n",
    "print(\"Train confidence interval over 10 random splits: [{}, {}]\".format(train_low10, train_high10))\n",
    "print(\"Test mean accuracy over 10 random splits: {}\".format(test_mean10))\n",
    "print(\"Test confidence interval over 10 random splits: [{}, {}]\".format(test_low10, test_high10))"
   ]
  },
  {
   "cell_type": "markdown",
   "metadata": {},
   "source": [
    "[It seems that NB model performs worse than the LR model, especially on the training set. This might be because Naive Bayes model assumes that all features are mutually independent with each other, however, this is very unlikely the case in our dataset.]"
   ]
  },
  {
   "cell_type": "markdown",
   "metadata": {},
   "source": [
    "## Q6"
   ]
  },
  {
   "cell_type": "code",
   "execution_count": 37,
   "metadata": {},
   "outputs": [],
   "source": [
    "def is_graduate_student():\n",
    "    # ** Graduate students: change the return value to True **\n",
    "    return True"
   ]
  },
  {
   "cell_type": "markdown",
   "metadata": {},
   "source": [
    "### Q6 (a)\n",
    "\n",
    "Modify the partial code below"
   ]
  },
  {
   "cell_type": "code",
   "execution_count": 38,
   "metadata": {},
   "outputs": [],
   "source": [
    "def binary_med_data(file_list, num_words = 1000):\n",
    "    # Put your code here\n",
    "    # Make sure you update the variable features and targets below\n",
    "    \n",
    "    # Calculate word count in corpus\n",
    "    news_cnt = corpus_count_words_improved(file_list)\n",
    "    \n",
    "    # Select the most common numWords\n",
    "    word_list = [word for (word, freq) in news_cnt.most_common(num_words)]\n",
    "    \n",
    "    # Create a binary encoding of dataset based on the selected features (X)\n",
    "    tokenizer = RegexpTokenizer(r'\\w+')\n",
    "    lemmatizer = WordNetLemmatizer() # add a lemmatizer to the text\n",
    "    sw = stopwords.words('english') # list of stop words\n",
    "    \n",
    "    df_rows = []\n",
    "    for file_path in file_list:\n",
    "        with open(file_path, 'r', encoding='utf-8', errors='ignore') as file:\n",
    "            file_data = file.read()\n",
    "            file_data = clean_file_text(file_data)\n",
    "            \n",
    "            # lemmatization before tokenization\n",
    "            tokens = tokenizer.tokenize(lemmatizer.lemmatize(file_data))\n",
    "            # remove stopwords, one letter tokens and numbers from tokens\n",
    "            file_words = [word.lower() for word in tokens if word.lower() not in sw if len(word)>1 if word.isalpha()]\n",
    "            \n",
    "            df_rows.append([1 if word in file_words else 0 for word in word_list])      \n",
    "    X = pd.DataFrame(df_rows, columns = word_list)\n",
    "    \n",
    "    # Create a dataframe of targets (y)\n",
    "    y = [1 if get_topic_name(file_path)=='sci.med' else 0 for file_path in file_list]\n",
    "    \n",
    "    \n",
    "    # validate return types\n",
    "    assert isinstance(X, pd.DataFrame) and isinstance(y, list), \"return types\"\n",
    "    \n",
    "    return X, y"
   ]
  },
  {
   "cell_type": "markdown",
   "metadata": {},
   "source": [
    "### Q6 (b)\n",
    "\n",
    "Use the following code to calculate the mean accuracy and 95% confidence interval over multiple random splits"
   ]
  },
  {
   "cell_type": "code",
   "execution_count": 36,
   "metadata": {},
   "outputs": [
    {
     "name": "stdout",
     "output_type": "stream",
     "text": [
      "Train mean accuracy over 10 random splits: 0.9886118453954419\n",
      "Train confidence interval over 10 random splits: [0.9883327466961245, 0.9888909440947593]\n",
      "Test mean accuracy over 10 random splits: 0.9732666666666667\n",
      "Test confidence interval over 10 random splits: [0.9720261034308594, 0.9745072299024741]\n"
     ]
    }
   ],
   "source": [
    "X, y = binary_med_data(all_files)\n",
    "train_mean10, train_low10, train_high10, test_mean10, test_low10, test_high10 = random_mean_ci(X, y, num_tests = 10)\n",
    "print(\"Train mean accuracy over 10 random splits: {}\".format(train_mean10))\n",
    "print(\"Train confidence interval over 10 random splits: [{}, {}]\".format(train_low10, train_high10))\n",
    "print(\"Test mean accuracy over 10 random splits: {}\".format(test_mean10))\n",
    "print(\"Test confidence interval over 10 random splits: [{}, {}]\".format(test_low10, test_high10))"
   ]
  },
  {
   "cell_type": "markdown",
   "metadata": {},
   "source": [
    "[Obviously, we obtained a much better performance on both train and test set in this binary classfication compared with the multiclass classification problem in Q1. However, one obvious issue with this bianry classification is the class imbalance (1000 positive vs 18997 negative).]"
   ]
  }
 ],
 "metadata": {
  "kernelspec": {
   "display_name": "Python 3",
   "language": "python",
   "name": "python3"
  },
  "language_info": {
   "codemirror_mode": {
    "name": "ipython",
    "version": 3
   },
   "file_extension": ".py",
   "mimetype": "text/x-python",
   "name": "python",
   "nbconvert_exporter": "python",
   "pygments_lexer": "ipython3",
   "version": "3.6.5"
  }
 },
 "nbformat": 4,
 "nbformat_minor": 2
}
